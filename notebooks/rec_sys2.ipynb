{
 "cells": [
  {
   "cell_type": "code",
   "execution_count": 1,
   "metadata": {},
   "outputs": [],
   "source": [
    "import pandas as pd"
   ]
  },
  {
   "cell_type": "code",
   "execution_count": 2,
   "metadata": {},
   "outputs": [],
   "source": [
    "prod_15 = pd.read_csv(\"../data/products_over15.csv\")\n",
    "order_prod_prior = pd.read_csv(\"../data/order_products__prior.csv\")\n",
    "order_prod_train = pd.read_csv(\"../data/order_products__train.csv\")\n",
    "orders = pd.read_csv(\"../data/orders.csv\")"
   ]
  },
  {
   "cell_type": "code",
   "execution_count": 3,
   "metadata": {},
   "outputs": [],
   "source": [
    "#prod_15.head()"
   ]
  },
  {
   "cell_type": "code",
   "execution_count": 4,
   "metadata": {},
   "outputs": [],
   "source": [
    "#order_prod_prior.head()"
   ]
  },
  {
   "cell_type": "code",
   "execution_count": 5,
   "metadata": {},
   "outputs": [],
   "source": [
    "#order_prod_train.head()"
   ]
  },
  {
   "cell_type": "code",
   "execution_count": 6,
   "metadata": {},
   "outputs": [],
   "source": [
    "#orders.head()"
   ]
  },
  {
   "cell_type": "code",
   "execution_count": 4,
   "metadata": {},
   "outputs": [],
   "source": [
    "#len(order_prod_train.order_id.unique())"
   ]
  },
  {
   "cell_type": "code",
   "execution_count": 5,
   "metadata": {},
   "outputs": [],
   "source": [
    "#order_prod_train.shape"
   ]
  },
  {
   "cell_type": "code",
   "execution_count": 6,
   "metadata": {},
   "outputs": [],
   "source": [
    "#len(order_prod_prior.order_id.unique())"
   ]
  },
  {
   "cell_type": "code",
   "execution_count": 7,
   "metadata": {},
   "outputs": [],
   "source": [
    "#order_prod_prior.shape"
   ]
  },
  {
   "cell_type": "code",
   "execution_count": 8,
   "metadata": {},
   "outputs": [],
   "source": [
    "#order_prod_prior[order_prod_prior[\"order_id\"] == 6]"
   ]
  },
  {
   "cell_type": "code",
   "execution_count": 4,
   "metadata": {},
   "outputs": [],
   "source": [
    "order_prod = order_prod_prior.append(order_prod_train, ignore_index=True)"
   ]
  },
  {
   "cell_type": "code",
   "execution_count": 70,
   "metadata": {},
   "outputs": [
    {
     "data": {
      "text/html": [
       "<div>\n",
       "<style scoped>\n",
       "    .dataframe tbody tr th:only-of-type {\n",
       "        vertical-align: middle;\n",
       "    }\n",
       "\n",
       "    .dataframe tbody tr th {\n",
       "        vertical-align: top;\n",
       "    }\n",
       "\n",
       "    .dataframe thead th {\n",
       "        text-align: right;\n",
       "    }\n",
       "</style>\n",
       "<table border=\"1\" class=\"dataframe\">\n",
       "  <thead>\n",
       "    <tr style=\"text-align: right;\">\n",
       "      <th></th>\n",
       "      <th>order_id</th>\n",
       "      <th>product_id</th>\n",
       "      <th>add_to_cart_order</th>\n",
       "      <th>reordered</th>\n",
       "    </tr>\n",
       "  </thead>\n",
       "  <tbody>\n",
       "    <tr>\n",
       "      <th>0</th>\n",
       "      <td>2</td>\n",
       "      <td>33120</td>\n",
       "      <td>1</td>\n",
       "      <td>1</td>\n",
       "    </tr>\n",
       "    <tr>\n",
       "      <th>1</th>\n",
       "      <td>2</td>\n",
       "      <td>28985</td>\n",
       "      <td>2</td>\n",
       "      <td>1</td>\n",
       "    </tr>\n",
       "    <tr>\n",
       "      <th>2</th>\n",
       "      <td>2</td>\n",
       "      <td>9327</td>\n",
       "      <td>3</td>\n",
       "      <td>0</td>\n",
       "    </tr>\n",
       "    <tr>\n",
       "      <th>3</th>\n",
       "      <td>2</td>\n",
       "      <td>45918</td>\n",
       "      <td>4</td>\n",
       "      <td>1</td>\n",
       "    </tr>\n",
       "    <tr>\n",
       "      <th>4</th>\n",
       "      <td>2</td>\n",
       "      <td>30035</td>\n",
       "      <td>5</td>\n",
       "      <td>0</td>\n",
       "    </tr>\n",
       "  </tbody>\n",
       "</table>\n",
       "</div>"
      ],
      "text/plain": [
       "   order_id  product_id  add_to_cart_order  reordered\n",
       "0         2       33120                  1          1\n",
       "1         2       28985                  2          1\n",
       "2         2        9327                  3          0\n",
       "3         2       45918                  4          1\n",
       "4         2       30035                  5          0"
      ]
     },
     "execution_count": 70,
     "metadata": {},
     "output_type": "execute_result"
    }
   ],
   "source": [
    "#order_prod.head()"
   ]
  },
  {
   "cell_type": "code",
   "execution_count": 5,
   "metadata": {},
   "outputs": [
    {
     "data": {
      "text/html": [
       "<div>\n",
       "<style scoped>\n",
       "    .dataframe tbody tr th:only-of-type {\n",
       "        vertical-align: middle;\n",
       "    }\n",
       "\n",
       "    .dataframe tbody tr th {\n",
       "        vertical-align: top;\n",
       "    }\n",
       "\n",
       "    .dataframe thead th {\n",
       "        text-align: right;\n",
       "    }\n",
       "</style>\n",
       "<table border=\"1\" class=\"dataframe\">\n",
       "  <thead>\n",
       "    <tr style=\"text-align: right;\">\n",
       "      <th></th>\n",
       "      <th>order_id</th>\n",
       "      <th>product_id</th>\n",
       "    </tr>\n",
       "  </thead>\n",
       "  <tbody>\n",
       "    <tr>\n",
       "      <th>0</th>\n",
       "      <td>2</td>\n",
       "      <td>33120</td>\n",
       "    </tr>\n",
       "    <tr>\n",
       "      <th>1</th>\n",
       "      <td>2</td>\n",
       "      <td>28985</td>\n",
       "    </tr>\n",
       "    <tr>\n",
       "      <th>2</th>\n",
       "      <td>2</td>\n",
       "      <td>9327</td>\n",
       "    </tr>\n",
       "    <tr>\n",
       "      <th>3</th>\n",
       "      <td>2</td>\n",
       "      <td>45918</td>\n",
       "    </tr>\n",
       "    <tr>\n",
       "      <th>4</th>\n",
       "      <td>2</td>\n",
       "      <td>30035</td>\n",
       "    </tr>\n",
       "  </tbody>\n",
       "</table>\n",
       "</div>"
      ],
      "text/plain": [
       "   order_id  product_id\n",
       "0         2       33120\n",
       "1         2       28985\n",
       "2         2        9327\n",
       "3         2       45918\n",
       "4         2       30035"
      ]
     },
     "execution_count": 5,
     "metadata": {},
     "output_type": "execute_result"
    }
   ],
   "source": [
    "#order_prod['rating'] = order_prod['reordered'] + 1\n",
    "order_prod = order_prod.drop([\"add_to_cart_order\", \"reordered\"], axis = 1)\n",
    "order_prod.head()"
   ]
  },
  {
   "cell_type": "code",
   "execution_count": 54,
   "metadata": {},
   "outputs": [
    {
     "data": {
      "text/html": [
       "<div>\n",
       "<style scoped>\n",
       "    .dataframe tbody tr th:only-of-type {\n",
       "        vertical-align: middle;\n",
       "    }\n",
       "\n",
       "    .dataframe tbody tr th {\n",
       "        vertical-align: top;\n",
       "    }\n",
       "\n",
       "    .dataframe thead th {\n",
       "        text-align: right;\n",
       "    }\n",
       "</style>\n",
       "<table border=\"1\" class=\"dataframe\">\n",
       "  <thead>\n",
       "    <tr style=\"text-align: right;\">\n",
       "      <th></th>\n",
       "      <th>order_id</th>\n",
       "      <th>user_id</th>\n",
       "      <th>eval_set</th>\n",
       "      <th>order_number</th>\n",
       "      <th>order_dow</th>\n",
       "      <th>order_hour_of_day</th>\n",
       "      <th>days_since_prior_order</th>\n",
       "    </tr>\n",
       "  </thead>\n",
       "  <tbody>\n",
       "    <tr>\n",
       "      <th>0</th>\n",
       "      <td>2539329</td>\n",
       "      <td>1</td>\n",
       "      <td>prior</td>\n",
       "      <td>1</td>\n",
       "      <td>2</td>\n",
       "      <td>8</td>\n",
       "      <td>NaN</td>\n",
       "    </tr>\n",
       "    <tr>\n",
       "      <th>1</th>\n",
       "      <td>2398795</td>\n",
       "      <td>1</td>\n",
       "      <td>prior</td>\n",
       "      <td>2</td>\n",
       "      <td>3</td>\n",
       "      <td>7</td>\n",
       "      <td>15.0</td>\n",
       "    </tr>\n",
       "    <tr>\n",
       "      <th>2</th>\n",
       "      <td>473747</td>\n",
       "      <td>1</td>\n",
       "      <td>prior</td>\n",
       "      <td>3</td>\n",
       "      <td>3</td>\n",
       "      <td>12</td>\n",
       "      <td>21.0</td>\n",
       "    </tr>\n",
       "    <tr>\n",
       "      <th>3</th>\n",
       "      <td>2254736</td>\n",
       "      <td>1</td>\n",
       "      <td>prior</td>\n",
       "      <td>4</td>\n",
       "      <td>4</td>\n",
       "      <td>7</td>\n",
       "      <td>29.0</td>\n",
       "    </tr>\n",
       "    <tr>\n",
       "      <th>4</th>\n",
       "      <td>431534</td>\n",
       "      <td>1</td>\n",
       "      <td>prior</td>\n",
       "      <td>5</td>\n",
       "      <td>4</td>\n",
       "      <td>15</td>\n",
       "      <td>28.0</td>\n",
       "    </tr>\n",
       "  </tbody>\n",
       "</table>\n",
       "</div>"
      ],
      "text/plain": [
       "   order_id  user_id eval_set  order_number  order_dow  order_hour_of_day  \\\n",
       "0   2539329        1    prior             1          2                  8   \n",
       "1   2398795        1    prior             2          3                  7   \n",
       "2    473747        1    prior             3          3                 12   \n",
       "3   2254736        1    prior             4          4                  7   \n",
       "4    431534        1    prior             5          4                 15   \n",
       "\n",
       "   days_since_prior_order  \n",
       "0                     NaN  \n",
       "1                    15.0  \n",
       "2                    21.0  \n",
       "3                    29.0  \n",
       "4                    28.0  "
      ]
     },
     "execution_count": 54,
     "metadata": {},
     "output_type": "execute_result"
    }
   ],
   "source": [
    "#orders.head()"
   ]
  },
  {
   "cell_type": "code",
   "execution_count": 60,
   "metadata": {},
   "outputs": [
    {
     "data": {
      "text/plain": [
       "206209"
      ]
     },
     "execution_count": 60,
     "metadata": {},
     "output_type": "execute_result"
    }
   ],
   "source": [
    "#len(orders[\"user_id\"].unique())"
   ]
  },
  {
   "cell_type": "code",
   "execution_count": 6,
   "metadata": {},
   "outputs": [],
   "source": [
    "order_user = orders[['order_id', 'user_id']]\n",
    "#print(order_user.head())\n",
    "#print(order_prod.head())"
   ]
  },
  {
   "cell_type": "code",
   "execution_count": 73,
   "metadata": {},
   "outputs": [
    {
     "name": "stdout",
     "output_type": "stream",
     "text": [
      "(33819106, 2)\n",
      "(3421083, 2)\n"
     ]
    }
   ],
   "source": [
    "# orders and products by order \n",
    "#print(order_prod.shape)\n",
    "# order id - user id mapping \n",
    "#print(order_user.shape)"
   ]
  },
  {
   "cell_type": "code",
   "execution_count": 7,
   "metadata": {},
   "outputs": [
    {
     "data": {
      "text/html": [
       "<div>\n",
       "<style scoped>\n",
       "    .dataframe tbody tr th:only-of-type {\n",
       "        vertical-align: middle;\n",
       "    }\n",
       "\n",
       "    .dataframe tbody tr th {\n",
       "        vertical-align: top;\n",
       "    }\n",
       "\n",
       "    .dataframe thead th {\n",
       "        text-align: right;\n",
       "    }\n",
       "</style>\n",
       "<table border=\"1\" class=\"dataframe\">\n",
       "  <thead>\n",
       "    <tr style=\"text-align: right;\">\n",
       "      <th></th>\n",
       "      <th>product_id</th>\n",
       "      <th>user_id</th>\n",
       "    </tr>\n",
       "  </thead>\n",
       "  <tbody>\n",
       "    <tr>\n",
       "      <th>0</th>\n",
       "      <td>33120</td>\n",
       "      <td>202279</td>\n",
       "    </tr>\n",
       "    <tr>\n",
       "      <th>1</th>\n",
       "      <td>28985</td>\n",
       "      <td>202279</td>\n",
       "    </tr>\n",
       "    <tr>\n",
       "      <th>2</th>\n",
       "      <td>9327</td>\n",
       "      <td>202279</td>\n",
       "    </tr>\n",
       "    <tr>\n",
       "      <th>3</th>\n",
       "      <td>45918</td>\n",
       "      <td>202279</td>\n",
       "    </tr>\n",
       "    <tr>\n",
       "      <th>4</th>\n",
       "      <td>30035</td>\n",
       "      <td>202279</td>\n",
       "    </tr>\n",
       "  </tbody>\n",
       "</table>\n",
       "</div>"
      ],
      "text/plain": [
       "   product_id  user_id\n",
       "0       33120   202279\n",
       "1       28985   202279\n",
       "2        9327   202279\n",
       "3       45918   202279\n",
       "4       30035   202279"
      ]
     },
     "execution_count": 7,
     "metadata": {},
     "output_type": "execute_result"
    }
   ],
   "source": [
    "user_prod = pd.merge(order_prod, order_user, on='order_id', how='left').drop('order_id', axis = 1)\n",
    "user_prod.head()"
   ]
  },
  {
   "cell_type": "code",
   "execution_count": 77,
   "metadata": {},
   "outputs": [
    {
     "data": {
      "text/plain": [
       "(33819106, 2)"
      ]
     },
     "execution_count": 77,
     "metadata": {},
     "output_type": "execute_result"
    }
   ],
   "source": [
    "#user_prod.shape"
   ]
  },
  {
   "cell_type": "code",
   "execution_count": 8,
   "metadata": {},
   "outputs": [
    {
     "data": {
      "text/html": [
       "<div>\n",
       "<style scoped>\n",
       "    .dataframe tbody tr th:only-of-type {\n",
       "        vertical-align: middle;\n",
       "    }\n",
       "\n",
       "    .dataframe tbody tr th {\n",
       "        vertical-align: top;\n",
       "    }\n",
       "\n",
       "    .dataframe thead th {\n",
       "        text-align: right;\n",
       "    }\n",
       "</style>\n",
       "<table border=\"1\" class=\"dataframe\">\n",
       "  <thead>\n",
       "    <tr style=\"text-align: right;\">\n",
       "      <th></th>\n",
       "      <th>product_id</th>\n",
       "      <th>user_id</th>\n",
       "      <th>count</th>\n",
       "    </tr>\n",
       "  </thead>\n",
       "  <tbody>\n",
       "    <tr>\n",
       "      <th>0</th>\n",
       "      <td>33120</td>\n",
       "      <td>202279</td>\n",
       "      <td>1</td>\n",
       "    </tr>\n",
       "    <tr>\n",
       "      <th>1</th>\n",
       "      <td>28985</td>\n",
       "      <td>202279</td>\n",
       "      <td>1</td>\n",
       "    </tr>\n",
       "    <tr>\n",
       "      <th>2</th>\n",
       "      <td>9327</td>\n",
       "      <td>202279</td>\n",
       "      <td>1</td>\n",
       "    </tr>\n",
       "    <tr>\n",
       "      <th>3</th>\n",
       "      <td>45918</td>\n",
       "      <td>202279</td>\n",
       "      <td>1</td>\n",
       "    </tr>\n",
       "    <tr>\n",
       "      <th>4</th>\n",
       "      <td>30035</td>\n",
       "      <td>202279</td>\n",
       "      <td>1</td>\n",
       "    </tr>\n",
       "  </tbody>\n",
       "</table>\n",
       "</div>"
      ],
      "text/plain": [
       "   product_id  user_id  count\n",
       "0       33120   202279      1\n",
       "1       28985   202279      1\n",
       "2        9327   202279      1\n",
       "3       45918   202279      1\n",
       "4       30035   202279      1"
      ]
     },
     "execution_count": 8,
     "metadata": {},
     "output_type": "execute_result"
    }
   ],
   "source": [
    "user_prod['count'] = 1\n",
    "user_prod.head()"
   ]
  },
  {
   "cell_type": "code",
   "execution_count": 9,
   "metadata": {},
   "outputs": [],
   "source": [
    "# customer clusters \n",
    "cluster0 = pd.read_pickle('cluster_0')\n",
    "cluster1 = pd.read_pickle('cluster_1')\n",
    "cluster2 = pd.read_pickle('cluster_2')"
   ]
  },
  {
   "cell_type": "code",
   "execution_count": 10,
   "metadata": {},
   "outputs": [],
   "source": [
    "#user_prod.groupby([\"product_id\", \"user_id\"]).count()\n",
    "data = user_prod.groupby([\"product_id\", \"user_id\"])[\"count\"].count().reset_index(name=\"count\")"
   ]
  },
  {
   "cell_type": "code",
   "execution_count": 131,
   "metadata": {},
   "outputs": [
    {
     "data": {
      "text/html": [
       "<div>\n",
       "<style scoped>\n",
       "    .dataframe tbody tr th:only-of-type {\n",
       "        vertical-align: middle;\n",
       "    }\n",
       "\n",
       "    .dataframe tbody tr th {\n",
       "        vertical-align: top;\n",
       "    }\n",
       "\n",
       "    .dataframe thead th {\n",
       "        text-align: right;\n",
       "    }\n",
       "</style>\n",
       "<table border=\"1\" class=\"dataframe\">\n",
       "  <thead>\n",
       "    <tr style=\"text-align: right;\">\n",
       "      <th></th>\n",
       "      <th>user_id</th>\n",
       "      <th>product_id</th>\n",
       "      <th>count</th>\n",
       "    </tr>\n",
       "  </thead>\n",
       "  <tbody>\n",
       "    <tr>\n",
       "      <th>0</th>\n",
       "      <td>138</td>\n",
       "      <td>1</td>\n",
       "      <td>2</td>\n",
       "    </tr>\n",
       "    <tr>\n",
       "      <th>1</th>\n",
       "      <td>709</td>\n",
       "      <td>1</td>\n",
       "      <td>1</td>\n",
       "    </tr>\n",
       "    <tr>\n",
       "      <th>2</th>\n",
       "      <td>751</td>\n",
       "      <td>1</td>\n",
       "      <td>1</td>\n",
       "    </tr>\n",
       "    <tr>\n",
       "      <th>3</th>\n",
       "      <td>764</td>\n",
       "      <td>1</td>\n",
       "      <td>2</td>\n",
       "    </tr>\n",
       "    <tr>\n",
       "      <th>4</th>\n",
       "      <td>777</td>\n",
       "      <td>1</td>\n",
       "      <td>1</td>\n",
       "    </tr>\n",
       "    <tr>\n",
       "      <th>...</th>\n",
       "      <td>...</td>\n",
       "      <td>...</td>\n",
       "      <td>...</td>\n",
       "    </tr>\n",
       "    <tr>\n",
       "      <th>13863741</th>\n",
       "      <td>197371</td>\n",
       "      <td>49688</td>\n",
       "      <td>1</td>\n",
       "    </tr>\n",
       "    <tr>\n",
       "      <th>13863742</th>\n",
       "      <td>200215</td>\n",
       "      <td>49688</td>\n",
       "      <td>1</td>\n",
       "    </tr>\n",
       "    <tr>\n",
       "      <th>13863743</th>\n",
       "      <td>200377</td>\n",
       "      <td>49688</td>\n",
       "      <td>1</td>\n",
       "    </tr>\n",
       "    <tr>\n",
       "      <th>13863744</th>\n",
       "      <td>200873</td>\n",
       "      <td>49688</td>\n",
       "      <td>2</td>\n",
       "    </tr>\n",
       "    <tr>\n",
       "      <th>13863745</th>\n",
       "      <td>205926</td>\n",
       "      <td>49688</td>\n",
       "      <td>1</td>\n",
       "    </tr>\n",
       "  </tbody>\n",
       "</table>\n",
       "<p>13863746 rows × 3 columns</p>\n",
       "</div>"
      ],
      "text/plain": [
       "          user_id  product_id  count\n",
       "0             138           1      2\n",
       "1             709           1      1\n",
       "2             751           1      1\n",
       "3             764           1      2\n",
       "4             777           1      1\n",
       "...           ...         ...    ...\n",
       "13863741   197371       49688      1\n",
       "13863742   200215       49688      1\n",
       "13863743   200377       49688      1\n",
       "13863744   200873       49688      2\n",
       "13863745   205926       49688      1\n",
       "\n",
       "[13863746 rows x 3 columns]"
      ]
     },
     "execution_count": 131,
     "metadata": {},
     "output_type": "execute_result"
    }
   ],
   "source": [
    "data = data[['user_id','product_id', 'count']]\n",
    "#data"
   ]
  },
  {
   "cell_type": "code",
   "execution_count": 11,
   "metadata": {},
   "outputs": [],
   "source": [
    "samp_data = data.sample(frac=0.05, replace=False, random_state=1)"
   ]
  },
  {
   "cell_type": "code",
   "execution_count": 94,
   "metadata": {},
   "outputs": [
    {
     "name": "stdout",
     "output_type": "stream",
     "text": [
      "24703\n",
      "43035\n",
      "138471\n"
     ]
    }
   ],
   "source": [
    "#print(len(cluster0))\n",
    "#print(len(cluster1))\n",
    "#print(len(cluster2))"
   ]
  },
  {
   "cell_type": "code",
   "execution_count": 12,
   "metadata": {},
   "outputs": [],
   "source": [
    "# subset user-product into 3 subsets\n",
    "# with customer clusters \n",
    "data0 = data[data['user_id'].isin(cluster0)]\n",
    "data1 = data[data['user_id'].isin(cluster1)]\n",
    "data2 = data[data['user_id'].isin(cluster2)]"
   ]
  },
  {
   "cell_type": "markdown",
   "metadata": {},
   "source": [
    "now data0, 1, 2 are preprocessed into format the surprise library takes.\n",
    "\n",
    "plan: run different recommender systems on these subsets of the data to see if performance changes from running it on all customers"
   ]
  },
  {
   "cell_type": "code",
   "execution_count": 104,
   "metadata": {
    "scrolled": true
   },
   "outputs": [
    {
     "name": "stdout",
     "output_type": "stream",
     "text": [
      "Collecting package metadata (current_repodata.json): done\n",
      "Solving environment: done\n",
      "\n",
      "## Package Plan ##\n",
      "\n",
      "  environment location: /opt/anaconda3\n",
      "\n",
      "  added / updated specs:\n",
      "    - scikit-surprise\n",
      "\n",
      "\n",
      "The following packages will be downloaded:\n",
      "\n",
      "    package                    |            build\n",
      "    ---------------------------|-----------------\n",
      "    scikit-surprise-1.1.1      |   py38h174b24a_1         586 KB  conda-forge\n",
      "    ------------------------------------------------------------\n",
      "                                           Total:         586 KB\n",
      "\n",
      "The following NEW packages will be INSTALLED:\n",
      "\n",
      "  scikit-surprise    conda-forge/osx-64::scikit-surprise-1.1.1-py38h174b24a_1\n",
      "\n",
      "\n",
      "\n",
      "Downloading and Extracting Packages\n",
      "scikit-surprise-1.1. | 586 KB    | ##################################### | 100% \n",
      "Preparing transaction: done\n",
      "Verifying transaction: done\n",
      "Executing transaction: done\n",
      "\n",
      "Note: you may need to restart the kernel to use updated packages.\n"
     ]
    }
   ],
   "source": [
    "#conda install -c conda-forge scikit-surprise"
   ]
  },
  {
   "cell_type": "markdown",
   "metadata": {},
   "source": [
    "#### General approach\n",
    "\n",
    "FILL IN"
   ]
  },
  {
   "cell_type": "code",
   "execution_count": 13,
   "metadata": {},
   "outputs": [],
   "source": [
    "from surprise import Dataset\n",
    "from surprise import Reader"
   ]
  },
  {
   "cell_type": "code",
   "execution_count": 14,
   "metadata": {},
   "outputs": [],
   "source": [
    "reader = Reader(rating_scale=(1, 101))\n",
    "data = Dataset.load_from_df(data[['user_id', 'product_id', 'count']], reader)\n",
    "data0 = Dataset.load_from_df(data0[['user_id', 'product_id', 'count']], reader)\n",
    "data1 = Dataset.load_from_df(data1[['user_id', 'product_id', 'count']], reader)\n",
    "data2 = Dataset.load_from_df(data2[['user_id', 'product_id', 'count']], reader)\n",
    "samp_data = Dataset.load_from_df(samp_data[['user_id', 'product_id', 'count']], reader)"
   ]
  },
  {
   "cell_type": "code",
   "execution_count": 15,
   "metadata": {},
   "outputs": [],
   "source": [
    "from surprise import SVD\n",
    "from surprise.model_selection import cross_validate\n",
    "from surprise import accuracy\n",
    "from surprise.model_selection import train_test_split\n",
    "\n",
    "\n",
    "from surprise import SVDpp, NMF, SlopeOne, CoClustering, KNNBaseline, KNNBasic, KNNWithZScore, BaselineOnly"
   ]
  },
  {
   "cell_type": "markdown",
   "metadata": {},
   "source": [
    "First we run SVD on 1) full data and then 2) the 3 segments (full broken into 3 subsets) to see if performance differs. "
   ]
  },
  {
   "cell_type": "code",
   "execution_count": 23,
   "metadata": {
    "scrolled": true
   },
   "outputs": [
    {
     "name": "stdout",
     "output_type": "stream",
     "text": [
      "Computing the msd similarity matrix...\n",
      "Done computing similarity matrix.\n",
      "Computing the msd similarity matrix...\n",
      "Done computing similarity matrix.\n",
      "Computing the msd similarity matrix...\n",
      "Done computing similarity matrix.\n",
      "Estimating biases using als...\n",
      "Estimating biases using als...\n",
      "Estimating biases using als...\n"
     ]
    },
    {
     "ename": "KeyError",
     "evalue": "\"None of ['Algorithm'] are in the columns\"",
     "output_type": "error",
     "traceback": [
      "\u001b[0;31m---------------------------------------------------------------------------\u001b[0m",
      "\u001b[0;31mKeyError\u001b[0m                                  Traceback (most recent call last)",
      "\u001b[0;32m<ipython-input-23-04605135b794>\u001b[0m in \u001b[0;36m<module>\u001b[0;34m\u001b[0m\n\u001b[1;32m     12\u001b[0m     \u001b[0mbenchmark\u001b[0m\u001b[0;34m.\u001b[0m\u001b[0mappend\u001b[0m\u001b[0;34m(\u001b[0m\u001b[0mtmp\u001b[0m\u001b[0;34m)\u001b[0m\u001b[0;34m\u001b[0m\u001b[0;34m\u001b[0m\u001b[0m\n\u001b[1;32m     13\u001b[0m \u001b[0;34m\u001b[0m\u001b[0m\n\u001b[0;32m---> 14\u001b[0;31m \u001b[0mpd\u001b[0m\u001b[0;34m.\u001b[0m\u001b[0mDataFrame\u001b[0m\u001b[0;34m(\u001b[0m\u001b[0mbenchmark_0\u001b[0m\u001b[0;34m)\u001b[0m\u001b[0;34m.\u001b[0m\u001b[0mset_index\u001b[0m\u001b[0;34m(\u001b[0m\u001b[0;34m'Algorithm'\u001b[0m\u001b[0;34m)\u001b[0m\u001b[0;34m.\u001b[0m\u001b[0msort_values\u001b[0m\u001b[0;34m(\u001b[0m\u001b[0;34m'test_rmse'\u001b[0m\u001b[0;34m)\u001b[0m\u001b[0;34m\u001b[0m\u001b[0;34m\u001b[0m\u001b[0m\n\u001b[0m\u001b[1;32m     15\u001b[0m \u001b[0;34m\u001b[0m\u001b[0m\n",
      "\u001b[0;32m/opt/anaconda3/lib/python3.8/site-packages/pandas/core/frame.py\u001b[0m in \u001b[0;36mset_index\u001b[0;34m(self, keys, drop, append, inplace, verify_integrity)\u001b[0m\n\u001b[1;32m   4549\u001b[0m \u001b[0;34m\u001b[0m\u001b[0m\n\u001b[1;32m   4550\u001b[0m         \u001b[0;32mif\u001b[0m \u001b[0mmissing\u001b[0m\u001b[0;34m:\u001b[0m\u001b[0;34m\u001b[0m\u001b[0;34m\u001b[0m\u001b[0m\n\u001b[0;32m-> 4551\u001b[0;31m             \u001b[0;32mraise\u001b[0m \u001b[0mKeyError\u001b[0m\u001b[0;34m(\u001b[0m\u001b[0;34mf\"None of {missing} are in the columns\"\u001b[0m\u001b[0;34m)\u001b[0m\u001b[0;34m\u001b[0m\u001b[0;34m\u001b[0m\u001b[0m\n\u001b[0m\u001b[1;32m   4552\u001b[0m \u001b[0;34m\u001b[0m\u001b[0m\n\u001b[1;32m   4553\u001b[0m         \u001b[0;32mif\u001b[0m \u001b[0minplace\u001b[0m\u001b[0;34m:\u001b[0m\u001b[0;34m\u001b[0m\u001b[0;34m\u001b[0m\u001b[0m\n",
      "\u001b[0;31mKeyError\u001b[0m: \"None of ['Algorithm'] are in the columns\""
     ]
    }
   ],
   "source": [
    "# try CV on data0\n",
    "# try CV, so results more robust\n",
    "benchmark_0 = []\n",
    "# Iterate over all algorithms\n",
    "for algorithm in [SVD(), SVDpp(), SlopeOne(), NMF(), KNNBasic(), BaselineOnly(), CoClustering()]:\n",
    "    # Perform cross validation\n",
    "    results = cross_validate(algorithm, data0, measures=['RMSE'], cv=3, verbose=False)\n",
    "    \n",
    "    # Get results & append algorithm name\n",
    "    tmp = pd.DataFrame.from_dict(results).mean(axis=0)\n",
    "    tmp = tmp.append(pd.Series([str(algorithm).split(' ')[0].split('.')[-1]], index=['Algorithm']))\n",
    "    benchmark_0.append(tmp) # changed to benchmark_0 after error msg\n",
    "    \n",
    "pd.DataFrame(benchmark_0).set_index('Algorithm').sort_values('test_rmse')    \n",
    "\n"
   ]
  },
  {
   "cell_type": "code",
   "execution_count": 27,
   "metadata": {},
   "outputs": [
    {
     "data": {
      "text/html": [
       "<div>\n",
       "<style scoped>\n",
       "    .dataframe tbody tr th:only-of-type {\n",
       "        vertical-align: middle;\n",
       "    }\n",
       "\n",
       "    .dataframe tbody tr th {\n",
       "        vertical-align: top;\n",
       "    }\n",
       "\n",
       "    .dataframe thead th {\n",
       "        text-align: right;\n",
       "    }\n",
       "</style>\n",
       "<table border=\"1\" class=\"dataframe\">\n",
       "  <thead>\n",
       "    <tr style=\"text-align: right;\">\n",
       "      <th></th>\n",
       "      <th>test_rmse</th>\n",
       "      <th>fit_time</th>\n",
       "      <th>test_time</th>\n",
       "    </tr>\n",
       "    <tr>\n",
       "      <th>Algorithm</th>\n",
       "      <th></th>\n",
       "      <th></th>\n",
       "      <th></th>\n",
       "    </tr>\n",
       "  </thead>\n",
       "  <tbody>\n",
       "    <tr>\n",
       "      <th>BaselineOnly</th>\n",
       "      <td>1.093106</td>\n",
       "      <td>0.658078</td>\n",
       "      <td>2.811652</td>\n",
       "    </tr>\n",
       "    <tr>\n",
       "      <th>SVD</th>\n",
       "      <td>1.111859</td>\n",
       "      <td>11.503051</td>\n",
       "      <td>0.867332</td>\n",
       "    </tr>\n",
       "    <tr>\n",
       "      <th>SVDpp</th>\n",
       "      <td>1.123760</td>\n",
       "      <td>40.772415</td>\n",
       "      <td>2.609253</td>\n",
       "    </tr>\n",
       "    <tr>\n",
       "      <th>KNNBasic</th>\n",
       "      <td>1.178905</td>\n",
       "      <td>27.027613</td>\n",
       "      <td>18.394223</td>\n",
       "    </tr>\n",
       "    <tr>\n",
       "      <th>CoClustering</th>\n",
       "      <td>1.187577</td>\n",
       "      <td>6.708118</td>\n",
       "      <td>0.470420</td>\n",
       "    </tr>\n",
       "    <tr>\n",
       "      <th>SlopeOne</th>\n",
       "      <td>1.203635</td>\n",
       "      <td>15.992062</td>\n",
       "      <td>4.766140</td>\n",
       "    </tr>\n",
       "    <tr>\n",
       "      <th>NMF</th>\n",
       "      <td>1.204027</td>\n",
       "      <td>14.137813</td>\n",
       "      <td>3.620358</td>\n",
       "    </tr>\n",
       "    <tr>\n",
       "      <th>BaselineOnly</th>\n",
       "      <td>3.401873</td>\n",
       "      <td>1.646250</td>\n",
       "      <td>1.303675</td>\n",
       "    </tr>\n",
       "    <tr>\n",
       "      <th>SVD</th>\n",
       "      <td>3.448130</td>\n",
       "      <td>23.575058</td>\n",
       "      <td>2.433299</td>\n",
       "    </tr>\n",
       "    <tr>\n",
       "      <th>SVDpp</th>\n",
       "      <td>3.580704</td>\n",
       "      <td>50.176859</td>\n",
       "      <td>3.832049</td>\n",
       "    </tr>\n",
       "    <tr>\n",
       "      <th>NMF</th>\n",
       "      <td>3.697266</td>\n",
       "      <td>34.388143</td>\n",
       "      <td>5.054507</td>\n",
       "    </tr>\n",
       "    <tr>\n",
       "      <th>CoClustering</th>\n",
       "      <td>3.726586</td>\n",
       "      <td>19.216695</td>\n",
       "      <td>1.437688</td>\n",
       "    </tr>\n",
       "    <tr>\n",
       "      <th>SlopeOne</th>\n",
       "      <td>4.052783</td>\n",
       "      <td>35.033196</td>\n",
       "      <td>3.883378</td>\n",
       "    </tr>\n",
       "  </tbody>\n",
       "</table>\n",
       "</div>"
      ],
      "text/plain": [
       "              test_rmse   fit_time  test_time\n",
       "Algorithm                                    \n",
       "BaselineOnly   1.093106   0.658078   2.811652\n",
       "SVD            1.111859  11.503051   0.867332\n",
       "SVDpp          1.123760  40.772415   2.609253\n",
       "KNNBasic       1.178905  27.027613  18.394223\n",
       "CoClustering   1.187577   6.708118   0.470420\n",
       "SlopeOne       1.203635  15.992062   4.766140\n",
       "NMF            1.204027  14.137813   3.620358\n",
       "BaselineOnly   3.401873   1.646250   1.303675\n",
       "SVD            3.448130  23.575058   2.433299\n",
       "SVDpp          3.580704  50.176859   3.832049\n",
       "NMF            3.697266  34.388143   5.054507\n",
       "CoClustering   3.726586  19.216695   1.437688\n",
       "SlopeOne       4.052783  35.033196   3.883378"
      ]
     },
     "execution_count": 27,
     "metadata": {},
     "output_type": "execute_result"
    }
   ],
   "source": [
    "# typo from block above, forgot to change to benchmark_0 when append\n",
    "# here benchmark is actually benchmark_0\n",
    "pd.DataFrame(benchmark).set_index('Algorithm').sort_values('test_rmse')    "
   ]
  },
  {
   "cell_type": "code",
   "execution_count": 29,
   "metadata": {},
   "outputs": [
    {
     "name": "stdout",
     "output_type": "stream",
     "text": [
      "here\n",
      "here\n",
      "here\n",
      "here\n",
      "here\n",
      "Estimating biases using als...\n",
      "Estimating biases using als...\n",
      "Estimating biases using als...\n",
      "here\n"
     ]
    },
    {
     "data": {
      "text/html": [
       "<div>\n",
       "<style scoped>\n",
       "    .dataframe tbody tr th:only-of-type {\n",
       "        vertical-align: middle;\n",
       "    }\n",
       "\n",
       "    .dataframe tbody tr th {\n",
       "        vertical-align: top;\n",
       "    }\n",
       "\n",
       "    .dataframe thead th {\n",
       "        text-align: right;\n",
       "    }\n",
       "</style>\n",
       "<table border=\"1\" class=\"dataframe\">\n",
       "  <thead>\n",
       "    <tr style=\"text-align: right;\">\n",
       "      <th></th>\n",
       "      <th>test_rmse</th>\n",
       "      <th>fit_time</th>\n",
       "      <th>test_time</th>\n",
       "    </tr>\n",
       "    <tr>\n",
       "      <th>Algorithm</th>\n",
       "      <th></th>\n",
       "      <th></th>\n",
       "      <th></th>\n",
       "    </tr>\n",
       "  </thead>\n",
       "  <tbody>\n",
       "    <tr>\n",
       "      <th>SlopeOne</th>\n",
       "      <td>4.659422</td>\n",
       "      <td>427.155067</td>\n",
       "      <td>492.065826</td>\n",
       "    </tr>\n",
       "    <tr>\n",
       "      <th>BaselineOnly</th>\n",
       "      <td>4.670651</td>\n",
       "      <td>7.742253</td>\n",
       "      <td>14.524952</td>\n",
       "    </tr>\n",
       "    <tr>\n",
       "      <th>CoClustering</th>\n",
       "      <td>4.763332</td>\n",
       "      <td>50.662264</td>\n",
       "      <td>19.170414</td>\n",
       "    </tr>\n",
       "    <tr>\n",
       "      <th>SVD</th>\n",
       "      <td>5.138838</td>\n",
       "      <td>171.908334</td>\n",
       "      <td>14.471877</td>\n",
       "    </tr>\n",
       "    <tr>\n",
       "      <th>NMF</th>\n",
       "      <td>5.368413</td>\n",
       "      <td>175.410924</td>\n",
       "      <td>19.289022</td>\n",
       "    </tr>\n",
       "    <tr>\n",
       "      <th>SVDpp</th>\n",
       "      <td>97.827278</td>\n",
       "      <td>3442.271826</td>\n",
       "      <td>158.484391</td>\n",
       "    </tr>\n",
       "  </tbody>\n",
       "</table>\n",
       "</div>"
      ],
      "text/plain": [
       "              test_rmse     fit_time   test_time\n",
       "Algorithm                                       \n",
       "SlopeOne       4.659422   427.155067  492.065826\n",
       "BaselineOnly   4.670651     7.742253   14.524952\n",
       "CoClustering   4.763332    50.662264   19.170414\n",
       "SVD            5.138838   171.908334   14.471877\n",
       "NMF            5.368413   175.410924   19.289022\n",
       "SVDpp         97.827278  3442.271826  158.484391"
      ]
     },
     "execution_count": 29,
     "metadata": {},
     "output_type": "execute_result"
    }
   ],
   "source": [
    "# try CV on data1\n",
    "# try CV, so results more robust\n",
    "benchmark_1 = []\n",
    "# Iterate over all algorithms\n",
    "for algorithm in [SVD(), SVDpp(), SlopeOne(), NMF(), BaselineOnly(), CoClustering()]:\n",
    "    print('here')\n",
    "    # Perform cross validation\n",
    "    results = cross_validate(algorithm, data1, measures=['RMSE'], cv=3, verbose=False)\n",
    "    \n",
    "    # Get results & append algorithm name\n",
    "    tmp = pd.DataFrame.from_dict(results).mean(axis=0)\n",
    "    tmp = tmp.append(pd.Series([str(algorithm).split(' ')[0].split('.')[-1]], index=['Algorithm']))\n",
    "    benchmark_1.append(tmp)\n",
    "    \n",
    "pd.DataFrame(benchmark_1).set_index('Algorithm').sort_values('test_rmse')    \n",
    "\n",
    "\n"
   ]
  },
  {
   "cell_type": "code",
   "execution_count": null,
   "metadata": {},
   "outputs": [
    {
     "name": "stdout",
     "output_type": "stream",
     "text": [
      "here\n",
      "here\n"
     ]
    }
   ],
   "source": [
    "# try CV on data1\n",
    "# try CV, so results more robust\n",
    "benchmark_2 = []\n",
    "# Iterate over all algorithms\n",
    "for algorithm in [SVD(), SVDpp(), SlopeOne(), NMF(), BaselineOnly(), CoClustering()]:\n",
    "    print('here')\n",
    "    # Perform cross validation\n",
    "    results = cross_validate(algorithm, data2, measures=['RMSE'], cv=3, verbose=False)\n",
    "    \n",
    "    # Get results & append algorithm name\n",
    "    tmp = pd.DataFrame.from_dict(results).mean(axis=0)\n",
    "    tmp = tmp.append(pd.Series([str(algorithm).split(' ')[0].split('.')[-1]], index=['Algorithm']))\n",
    "    benchmark_2.append(tmp)\n",
    "    \n",
    "pd.DataFrame(benchmark_2).set_index('Algorithm').sort_values('test_rmse')    \n",
    "\n",
    "\n"
   ]
  },
  {
   "cell_type": "markdown",
   "metadata": {},
   "source": [
    "### grid search on sample data"
   ]
  },
  {
   "cell_type": "code",
   "execution_count": 18,
   "metadata": {
    "scrolled": true
   },
   "outputs": [
    {
     "name": "stdout",
     "output_type": "stream",
     "text": [
      "Using ALS, set param_grid\n",
      "grid search\n",
      "fitting BaselineOnly\n",
      "Estimating biases using als...\n",
      "Estimating biases using als...\n",
      "Estimating biases using als...\n",
      "Estimating biases using als...\n",
      "Estimating biases using als...\n",
      "Estimating biases using als...\n",
      "Estimating biases using als...\n",
      "Estimating biases using als...\n",
      "Estimating biases using als...\n",
      "Estimating biases using als...\n",
      "Estimating biases using als...\n",
      "Estimating biases using als...\n",
      "Estimating biases using als...\n",
      "Estimating biases using als...\n",
      "Estimating biases using als...\n",
      "Estimating biases using als...\n",
      "Estimating biases using als...\n",
      "Estimating biases using als...\n",
      "Estimating biases using als...\n",
      "Estimating biases using als...\n",
      "Estimating biases using als...\n",
      "Estimating biases using als...\n",
      "Estimating biases using als...\n",
      "Estimating biases using als...\n",
      "Estimating biases using als...\n",
      "Estimating biases using als...\n",
      "Estimating biases using als...\n",
      "Estimating biases using als...\n",
      "Estimating biases using als...\n",
      "Estimating biases using als...\n",
      "Estimating biases using als...\n",
      "Estimating biases using als...\n",
      "Estimating biases using als...\n",
      "Estimating biases using als...\n",
      "Estimating biases using als...\n",
      "Estimating biases using als...\n",
      "Estimating biases using als...\n",
      "Estimating biases using als...\n",
      "Estimating biases using als...\n",
      "Estimating biases using als...\n",
      "Estimating biases using als...\n",
      "Estimating biases using als...\n",
      "Estimating biases using als...\n",
      "Estimating biases using als...\n",
      "Estimating biases using als...\n",
      "Estimating biases using als...\n",
      "Estimating biases using als...\n",
      "Estimating biases using als...\n",
      "3.4016118447523724\n",
      "{'bsl_options': {'method': 'als', 'reg_i': 10, 'reg_u': 15, 'n_epochs': 10}}\n"
     ]
    }
   ],
   "source": [
    "# grid search for hyper parameter tuning \n",
    "# sample of full data\n",
    "# baseline \n",
    "# ALS\n",
    "from surprise.model_selection import GridSearchCV\n",
    "print('Using ALS, set param_grid')\n",
    "param_grid = {'bsl_options': {'method': ['als'],\n",
    "                              'reg_i': [10, 1, 0.1, 0.01],\n",
    "                              'reg_u': [15, 1.5],\n",
    "                              'n_epochs':[5, 10]}\n",
    "              }\n",
    "\n",
    "print('grid search')\n",
    "gs_bl = GridSearchCV(BaselineOnly, param_grid, measures=['rmse'], cv=3)\n",
    "\n",
    "print('fitting BaselineOnly')\n",
    "gs_bl.fit(samp_data)\n",
    "\n",
    "# best RMSE score\n",
    "print(gs_bl.best_score['rmse'])\n",
    "\n",
    "# combination of parameters that gave the best RMSE score\n",
    "print(gs_bl.best_params['rmse'])"
   ]
  },
  {
   "cell_type": "code",
   "execution_count": 19,
   "metadata": {},
   "outputs": [
    {
     "name": "stdout",
     "output_type": "stream",
     "text": [
      "Using SGD, set param_grid\n",
      "grid search\n",
      "fitting BaselineOnly\n",
      "Estimating biases using sgd...\n",
      "Estimating biases using sgd...\n",
      "Estimating biases using sgd...\n",
      "Estimating biases using sgd...\n",
      "Estimating biases using sgd...\n",
      "Estimating biases using sgd...\n",
      "Estimating biases using sgd...\n",
      "Estimating biases using sgd...\n",
      "Estimating biases using sgd...\n",
      "Estimating biases using sgd...\n",
      "Estimating biases using sgd...\n",
      "Estimating biases using sgd...\n",
      "Estimating biases using sgd...\n",
      "Estimating biases using sgd...\n",
      "Estimating biases using sgd...\n",
      "Estimating biases using sgd...\n",
      "Estimating biases using sgd...\n",
      "Estimating biases using sgd...\n",
      "Estimating biases using sgd...\n",
      "Estimating biases using sgd...\n",
      "Estimating biases using sgd...\n",
      "Estimating biases using sgd...\n",
      "Estimating biases using sgd...\n",
      "Estimating biases using sgd...\n",
      "Estimating biases using sgd...\n",
      "Estimating biases using sgd...\n",
      "Estimating biases using sgd...\n",
      "Estimating biases using sgd...\n",
      "Estimating biases using sgd...\n",
      "Estimating biases using sgd...\n",
      "Estimating biases using sgd...\n",
      "Estimating biases using sgd...\n",
      "Estimating biases using sgd...\n",
      "Estimating biases using sgd...\n",
      "Estimating biases using sgd...\n",
      "Estimating biases using sgd...\n",
      "3.4092709451639087\n",
      "{'bsl_options': {'method': 'sgd', 'reg': 0.002, 'learning_rate': 0.005, 'n_epochs': 20}}\n"
     ]
    }
   ],
   "source": [
    "# grid search for hyper parameter tuning \n",
    "# sample of full data\n",
    "# baseline \n",
    "# SGD\n",
    "\n",
    "print('Using SGD, set param_grid')\n",
    "param_grid = {'bsl_options': {'method': ['sgd'],\n",
    "                              'reg': [0.2, 0.02, 0.002],\n",
    "                              'learning_rate': [0.005, 0.05],\n",
    "                              'n_epochs':[15, 20]}\n",
    "              }\n",
    "\n",
    "print('grid search')\n",
    "gs_bl2 = GridSearchCV(BaselineOnly, param_grid, measures=['rmse'], cv=3)\n",
    "\n",
    "print('fitting BaselineOnly')\n",
    "gs_bl2.fit(samp_data)\n",
    "\n",
    "# best RMSE score\n",
    "print(gs_bl2.best_score['rmse'])\n",
    "\n",
    "# combination of parameters that gave the best RMSE score\n",
    "print(gs_bl2.best_params['rmse'])"
   ]
  },
  {
   "cell_type": "code",
   "execution_count": 21,
   "metadata": {},
   "outputs": [
    {
     "name": "stdout",
     "output_type": "stream",
     "text": [
      "Using SVD, set param_grid\n",
      "grid search\n",
      "fitting SVD\n",
      "3.43736663086827\n",
      "{'n_epochs': 10, 'lr_all': 0.005, 'reg_all': 0.4}\n"
     ]
    }
   ],
   "source": [
    "# grid search for hyper parameter tuning \n",
    "# sample of full data\n",
    "# SVD\n",
    "\n",
    "from surprise.model_selection import GridSearchCV\n",
    "print('Using SVD, set param_grid')\n",
    "param_grid = {'n_epochs': [5, 10], 'lr_all': [0.002, 0.005],\n",
    "              'reg_all': [0.4, 0.6]}\n",
    "\n",
    "\n",
    "print('grid search')\n",
    "gs_svd = GridSearchCV(SVD, param_grid, measures=['rmse'], cv=3)\n",
    "\n",
    "print('fitting SVD')\n",
    "gs_svd.fit(samp_data)\n",
    "\n",
    "# best RMSE score\n",
    "print(gs_svd.best_score['rmse'])\n",
    "\n",
    "# combination of parameters that gave the best RMSE score\n",
    "print(gs_svd.best_params['rmse'])"
   ]
  },
  {
   "cell_type": "code",
   "execution_count": 25,
   "metadata": {},
   "outputs": [
    {
     "name": "stdout",
     "output_type": "stream",
     "text": [
      "Using SVD, set param_grid\n",
      "grid search\n",
      "fitting SVD\n",
      "3.4362321104095597\n",
      "{'n_epochs': 10, 'lr_all': 0.005, 'reg_all': 0.2}\n"
     ]
    }
   ],
   "source": [
    "# grid search for hyper parameter tuning \n",
    "# sample of full data\n",
    "# SVD\n",
    "from surprise.model_selection import GridSearchCV\n",
    "print('Using SVD, set param_grid')\n",
    "#param_grid = {'n_epochs': [5, 10], 'lr_all': [0.002, 0.005],\n",
    "#              'reg_all': [0.4, 0.6]}\n",
    "\n",
    "param_grid = {'n_epochs': [10], 'lr_all': [0.005],\n",
    "              'reg_all': [0.2, 0.02, 0.002]}\n",
    "\n",
    "print('grid search')\n",
    "gs_svd = GridSearchCV(SVD, param_grid, measures=['rmse'], cv=3)\n",
    "\n",
    "print('fitting SVD')\n",
    "gs_svd.fit(samp_data)\n",
    "\n",
    "# best RMSE score\n",
    "print(gs_svd.best_score['rmse'])\n",
    "\n",
    "# combination of parameters that gave the best RMSE score\n",
    "print(gs_svd.best_params['rmse'])"
   ]
  },
  {
   "cell_type": "markdown",
   "metadata": {},
   "source": [
    "### grid search on segmented data\n",
    "\n",
    "#### cluster 0:\n",
    "baseline, SVD\n",
    "\n"
   ]
  },
  {
   "cell_type": "code",
   "execution_count": 22,
   "metadata": {
    "scrolled": true
   },
   "outputs": [
    {
     "name": "stdout",
     "output_type": "stream",
     "text": [
      "Using ALS, set param_grid\n",
      "grid search\n",
      "fitting BaselineOnly\n",
      "Estimating biases using als...\n",
      "Estimating biases using als...\n",
      "Estimating biases using als...\n",
      "Estimating biases using als...\n",
      "Estimating biases using als...\n",
      "Estimating biases using als...\n",
      "Estimating biases using als...\n",
      "Estimating biases using als...\n",
      "Estimating biases using als...\n",
      "Estimating biases using als...\n",
      "Estimating biases using als...\n",
      "Estimating biases using als...\n",
      "Estimating biases using als...\n",
      "Estimating biases using als...\n",
      "Estimating biases using als...\n",
      "Estimating biases using als...\n",
      "Estimating biases using als...\n",
      "Estimating biases using als...\n",
      "Estimating biases using als...\n",
      "Estimating biases using als...\n",
      "Estimating biases using als...\n",
      "Estimating biases using als...\n",
      "Estimating biases using als...\n",
      "Estimating biases using als...\n",
      "Estimating biases using als...\n",
      "Estimating biases using als...\n",
      "Estimating biases using als...\n",
      "Estimating biases using als...\n",
      "Estimating biases using als...\n",
      "Estimating biases using als...\n",
      "Estimating biases using als...\n",
      "Estimating biases using als...\n",
      "Estimating biases using als...\n",
      "Estimating biases using als...\n",
      "Estimating biases using als...\n",
      "Estimating biases using als...\n",
      "Estimating biases using als...\n",
      "Estimating biases using als...\n",
      "Estimating biases using als...\n",
      "Estimating biases using als...\n",
      "Estimating biases using als...\n",
      "Estimating biases using als...\n",
      "Estimating biases using als...\n",
      "Estimating biases using als...\n",
      "Estimating biases using als...\n",
      "Estimating biases using als...\n",
      "Estimating biases using als...\n",
      "Estimating biases using als...\n",
      "1.0930120651714514\n",
      "{'bsl_options': {'method': 'als', 'reg_i': 10, 'reg_u': 15, 'n_epochs': 10}}\n"
     ]
    }
   ],
   "source": [
    "# grid search for hyper parameter tuning \n",
    "# data0\n",
    "# baseline \n",
    "# ALS\n",
    "from surprise.model_selection import GridSearchCV\n",
    "print('Using ALS, set param_grid')\n",
    "param_grid = {'bsl_options': {'method': ['als'],\n",
    "                              'reg_i': [10, 1, 0.1, 0.01],\n",
    "                              'reg_u': [15, 1.5],\n",
    "                              'n_epochs':[5, 10]}\n",
    "              }\n",
    "\n",
    "print('grid search')\n",
    "gs_bl_c0 = GridSearchCV(BaselineOnly, param_grid, measures=['rmse'], cv=3)\n",
    "\n",
    "print('fitting BaselineOnly')\n",
    "gs_bl_c0.fit(data0)\n",
    "\n",
    "# best RMSE score\n",
    "print(gs_bl_c0.best_score['rmse'])\n",
    "\n",
    "# combination of parameters that gave the best RMSE score\n",
    "print(gs_bl_c0.best_params['rmse'])"
   ]
  },
  {
   "cell_type": "code",
   "execution_count": 24,
   "metadata": {
    "scrolled": true
   },
   "outputs": [
    {
     "name": "stdout",
     "output_type": "stream",
     "text": [
      "Using SGD, set param_grid\n",
      "grid search\n",
      "fitting BaselineOnly\n",
      "Estimating biases using sgd...\n",
      "Estimating biases using sgd...\n",
      "Estimating biases using sgd...\n",
      "Estimating biases using sgd...\n",
      "Estimating biases using sgd...\n",
      "Estimating biases using sgd...\n",
      "Estimating biases using sgd...\n",
      "Estimating biases using sgd...\n",
      "Estimating biases using sgd...\n",
      "Estimating biases using sgd...\n",
      "Estimating biases using sgd...\n",
      "Estimating biases using sgd...\n",
      "Estimating biases using sgd...\n",
      "Estimating biases using sgd...\n",
      "Estimating biases using sgd...\n",
      "Estimating biases using sgd...\n",
      "Estimating biases using sgd...\n",
      "Estimating biases using sgd...\n",
      "Estimating biases using sgd...\n",
      "Estimating biases using sgd...\n",
      "Estimating biases using sgd...\n",
      "Estimating biases using sgd...\n",
      "Estimating biases using sgd...\n",
      "Estimating biases using sgd...\n",
      "Estimating biases using sgd...\n",
      "Estimating biases using sgd...\n",
      "Estimating biases using sgd...\n",
      "Estimating biases using sgd...\n",
      "Estimating biases using sgd...\n",
      "Estimating biases using sgd...\n",
      "Estimating biases using sgd...\n",
      "Estimating biases using sgd...\n",
      "Estimating biases using sgd...\n",
      "Estimating biases using sgd...\n",
      "Estimating biases using sgd...\n",
      "Estimating biases using sgd...\n",
      "1.0925813610343167\n",
      "{'bsl_options': {'method': 'sgd', 'reg': 0.2, 'learning_rate': 0.005, 'n_epochs': 20}}\n"
     ]
    }
   ],
   "source": [
    "# grid search for hyper parameter tuning \n",
    "# sample of full data\n",
    "# baseline \n",
    "# SGD\n",
    "\n",
    "print('Using SGD, set param_grid')\n",
    "param_grid = {'bsl_options': {'method': ['sgd'],\n",
    "                              'reg': [0.2, 0.02, 0.002],\n",
    "                              'learning_rate': [0.005, 0.05],\n",
    "                              'n_epochs':[15, 20]}\n",
    "              }\n",
    "\n",
    "print('grid search')\n",
    "gs_bl2_c0 = GridSearchCV(BaselineOnly, param_grid, measures=['rmse'], cv=3)\n",
    "\n",
    "print('fitting BaselineOnly')\n",
    "gs_bl2_c0.fit(data0)\n",
    "\n",
    "# best RMSE score\n",
    "print(gs_bl2_c0.best_score['rmse'])\n",
    "\n",
    "# combination of parameters that gave the best RMSE score\n",
    "print(gs_bl2_c0.best_params['rmse'])"
   ]
  },
  {
   "cell_type": "code",
   "execution_count": 26,
   "metadata": {},
   "outputs": [
    {
     "name": "stdout",
     "output_type": "stream",
     "text": [
      "Using SVD, set param_grid\n",
      "grid search\n",
      "fitting SVD\n",
      "1.096993883898958\n",
      "{'n_epochs': 10, 'lr_all': 0.005, 'reg_all': 0.2}\n"
     ]
    }
   ],
   "source": [
    "# grid search for hyper parameter tuning \n",
    "# data0\n",
    "# SVD\n",
    "\n",
    "from surprise.model_selection import GridSearchCV\n",
    "print('Using SVD, set param_grid')\n",
    "param_grid = {'n_epochs': [5, 10], 'lr_all': [0.002, 0.005],\n",
    "              'reg_all': [0.2, 0.4, 0.6]}\n",
    "\n",
    "\n",
    "print('grid search')\n",
    "gs_svd_c0 = GridSearchCV(SVD, param_grid, measures=['rmse'], cv=3)\n",
    "\n",
    "print('fitting SVD')\n",
    "gs_svd_c0.fit(data0)\n",
    "\n",
    "# best RMSE score\n",
    "print(gs_svd_c0.best_score['rmse'])\n",
    "\n",
    "# combination of parameters that gave the best RMSE score\n",
    "print(gs_svd_c0.best_params['rmse'])"
   ]
  },
  {
   "cell_type": "code",
   "execution_count": 37,
   "metadata": {},
   "outputs": [
    {
     "name": "stdout",
     "output_type": "stream",
     "text": [
      "Using SVD, set param_grid\n",
      "grid search\n",
      "fitting SVD\n",
      "0.691329426843334\n",
      "{'n_epochs': 10, 'lr_all': 0.005, 'reg_all': 0.2}\n"
     ]
    }
   ],
   "source": [
    "# grid search for hyper parameter tuning \n",
    "# data0\n",
    "# SVD\n",
    "\n",
    "from surprise.model_selection import GridSearchCV\n",
    "print('Using SVD, set param_grid')\n",
    "param_grid = {'n_epochs': [5, 10], 'lr_all': [0.002, 0.005],\n",
    "              'reg_all': [0.2, 0.4, 0.6]}\n",
    "\n",
    "\n",
    "print('grid search')\n",
    "gs_svd_c0 = GridSearchCV(SVD, param_grid, measures=['mae'], cv=3)\n",
    "\n",
    "print('fitting SVD')\n",
    "gs_svd_c0.fit(data0)\n",
    "\n",
    "# best RMSE score\n",
    "print(gs_svd_c0.best_score['mae'])\n",
    "\n",
    "# combination of parameters that gave the best RMSE score\n",
    "print(gs_svd_c0.best_params['mae'])"
   ]
  },
  {
   "cell_type": "code",
   "execution_count": 41,
   "metadata": {},
   "outputs": [
    {
     "name": "stdout",
     "output_type": "stream",
     "text": [
      "Evaluating MAE of algorithm SVD on 5 split(s).\n",
      "\n",
      "                  Fold 1  Fold 2  Fold 3  Fold 4  Fold 5  Mean    Std     \n",
      "MAE (testset)     0.6879  0.6828  0.6874  0.6870  0.6897  0.6870  0.0023  \n",
      "Fit time          7.13    7.18    7.21    7.07    7.16    7.15    0.05    \n",
      "Test time         1.13    0.39    0.38    0.33    1.03    0.65    0.35    \n"
     ]
    },
    {
     "data": {
      "text/plain": [
       "{'test_mae': array([0.68787733, 0.68277575, 0.68735596, 0.6870441 , 0.68972472]),\n",
       " 'fit_time': (7.129241228103638,\n",
       "  7.182843923568726,\n",
       "  7.210119247436523,\n",
       "  7.069298028945923,\n",
       "  7.156614065170288),\n",
       " 'test_time': (1.129824161529541,\n",
       "  0.39392876625061035,\n",
       "  0.3779029846191406,\n",
       "  0.334578275680542,\n",
       "  1.034945011138916)}"
      ]
     },
     "execution_count": 41,
     "metadata": {},
     "output_type": "execute_result"
    }
   ],
   "source": [
    "algo = gs_svd_c0.best_estimator['mae']\n",
    "cross_validate(algo, data0, measures=['MAE'], cv=5, verbose=True)\n",
    "#algo.fit(data0.build_full_trainset())"
   ]
  },
  {
   "cell_type": "markdown",
   "metadata": {},
   "source": [
    "#### cluster 1:\n",
    "baseline, coclustering\n"
   ]
  },
  {
   "cell_type": "code",
   "execution_count": 27,
   "metadata": {
    "scrolled": true
   },
   "outputs": [
    {
     "name": "stdout",
     "output_type": "stream",
     "text": [
      "Using ALS, set param_grid\n",
      "grid search\n",
      "fitting BaselineOnly\n",
      "Estimating biases using als...\n",
      "Estimating biases using als...\n",
      "Estimating biases using als...\n",
      "Estimating biases using als...\n",
      "Estimating biases using als...\n",
      "Estimating biases using als...\n",
      "Estimating biases using als...\n",
      "Estimating biases using als...\n",
      "Estimating biases using als...\n",
      "Estimating biases using als...\n",
      "Estimating biases using als...\n",
      "Estimating biases using als...\n",
      "Estimating biases using als...\n",
      "Estimating biases using als...\n",
      "Estimating biases using als...\n",
      "Estimating biases using als...\n",
      "Estimating biases using als...\n",
      "Estimating biases using als...\n",
      "Estimating biases using als...\n",
      "Estimating biases using als...\n",
      "Estimating biases using als...\n",
      "Estimating biases using als...\n",
      "Estimating biases using als...\n",
      "Estimating biases using als...\n",
      "Estimating biases using als...\n",
      "Estimating biases using als...\n",
      "Estimating biases using als...\n",
      "Estimating biases using als...\n",
      "Estimating biases using als...\n",
      "Estimating biases using als...\n",
      "Estimating biases using als...\n",
      "Estimating biases using als...\n",
      "Estimating biases using als...\n",
      "Estimating biases using als...\n",
      "Estimating biases using als...\n",
      "Estimating biases using als...\n",
      "Estimating biases using als...\n",
      "Estimating biases using als...\n",
      "Estimating biases using als...\n",
      "Estimating biases using als...\n",
      "Estimating biases using als...\n",
      "Estimating biases using als...\n",
      "Estimating biases using als...\n",
      "Estimating biases using als...\n",
      "Estimating biases using als...\n",
      "Estimating biases using als...\n",
      "Estimating biases using als...\n",
      "Estimating biases using als...\n",
      "4.666474617655419\n",
      "{'bsl_options': {'method': 'als', 'reg_i': 10, 'reg_u': 1.5, 'n_epochs': 10}}\n"
     ]
    }
   ],
   "source": [
    "# grid search for hyper parameter tuning \n",
    "# data1\n",
    "# baseline \n",
    "# ALS\n",
    "from surprise.model_selection import GridSearchCV\n",
    "print('Using ALS, set param_grid')\n",
    "param_grid = {'bsl_options': {'method': ['als'],\n",
    "                              'reg_i': [10, 1, 0.1, 0.01],\n",
    "                              'reg_u': [15, 1.5],\n",
    "                              'n_epochs':[5, 10]}\n",
    "              }\n",
    "\n",
    "print('grid search')\n",
    "gs_bl_c1 = GridSearchCV(BaselineOnly, param_grid, measures=['rmse'], cv=3)\n",
    "\n",
    "print('fitting BaselineOnly')\n",
    "gs_bl_c1.fit(data1)\n",
    "\n",
    "# best RMSE score\n",
    "print(gs_bl_c1.best_score['rmse'])\n",
    "\n",
    "# combination of parameters that gave the best RMSE score\n",
    "print(gs_bl_c1.best_params['rmse'])"
   ]
  },
  {
   "cell_type": "code",
   "execution_count": 42,
   "metadata": {},
   "outputs": [
    {
     "name": "stdout",
     "output_type": "stream",
     "text": [
      "Using ALS, set param_grid\n",
      "grid search\n",
      "fitting BaselineOnly\n",
      "Estimating biases using als...\n",
      "Estimating biases using als...\n",
      "Estimating biases using als...\n",
      "Estimating biases using als...\n",
      "Estimating biases using als...\n",
      "Estimating biases using als...\n",
      "Estimating biases using als...\n",
      "Estimating biases using als...\n",
      "Estimating biases using als...\n",
      "Estimating biases using als...\n",
      "Estimating biases using als...\n",
      "Estimating biases using als...\n",
      "Estimating biases using als...\n",
      "Estimating biases using als...\n",
      "Estimating biases using als...\n",
      "Estimating biases using als...\n",
      "Estimating biases using als...\n",
      "Estimating biases using als...\n",
      "Estimating biases using als...\n",
      "Estimating biases using als...\n",
      "Estimating biases using als...\n",
      "Estimating biases using als...\n",
      "Estimating biases using als...\n",
      "Estimating biases using als...\n",
      "Estimating biases using als...\n",
      "Estimating biases using als...\n",
      "Estimating biases using als...\n",
      "Estimating biases using als...\n",
      "Estimating biases using als...\n",
      "Estimating biases using als...\n",
      "Estimating biases using als...\n",
      "Estimating biases using als...\n",
      "Estimating biases using als...\n",
      "Estimating biases using als...\n",
      "Estimating biases using als...\n",
      "Estimating biases using als...\n",
      "Estimating biases using als...\n",
      "Estimating biases using als...\n",
      "Estimating biases using als...\n",
      "Estimating biases using als...\n",
      "Estimating biases using als...\n",
      "Estimating biases using als...\n",
      "Estimating biases using als...\n",
      "Estimating biases using als...\n",
      "Estimating biases using als...\n",
      "Estimating biases using als...\n",
      "Estimating biases using als...\n",
      "Estimating biases using als...\n",
      "2.572441097371934\n",
      "{'bsl_options': {'method': 'als', 'reg_i': 0.01, 'reg_u': 15, 'n_epochs': 10}}\n"
     ]
    }
   ],
   "source": [
    "# grid search for hyper parameter tuning \n",
    "# data1\n",
    "# baseline w/ MAE\n",
    "# ALS\n",
    "from surprise.model_selection import GridSearchCV\n",
    "print('Using ALS, set param_grid')\n",
    "param_grid = {'bsl_options': {'method': ['als'],\n",
    "                              'reg_i': [10, 1, 0.1, 0.01],\n",
    "                              'reg_u': [15, 1.5],\n",
    "                              'n_epochs':[5, 10]}\n",
    "              }\n",
    "\n",
    "print('grid search')\n",
    "gs_bl_c1 = GridSearchCV(BaselineOnly, param_grid, measures=['mae'], cv=3)\n",
    "\n",
    "print('fitting BaselineOnly')\n",
    "gs_bl_c1.fit(data1)\n",
    "\n",
    "# best RMSE score\n",
    "print(gs_bl_c1.best_score['mae'])\n",
    "\n",
    "# combination of parameters that gave the best RMSE score\n",
    "print(gs_bl_c1.best_params['mae'])"
   ]
  },
  {
   "cell_type": "code",
   "execution_count": 45,
   "metadata": {},
   "outputs": [
    {
     "name": "stdout",
     "output_type": "stream",
     "text": [
      "Estimating biases using als...\n",
      "Estimating biases using als...\n",
      "Estimating biases using als...\n",
      "Estimating biases using als...\n",
      "Estimating biases using als...\n",
      "Evaluating MAE of algorithm BaselineOnly on 5 split(s).\n",
      "\n",
      "                  Fold 1  Fold 2  Fold 3  Fold 4  Fold 5  Mean    Std     \n",
      "MAE (testset)     2.5691  2.5773  2.5671  2.5670  2.5615  2.5684  0.0051  \n",
      "Fit time          9.07    10.17   9.35    10.17   9.69    9.69    0.44    \n",
      "Test time         15.65   8.99    9.36    10.37   10.69   11.01   2.40    \n"
     ]
    },
    {
     "data": {
      "text/plain": [
       "{'test_mae': array([2.5690665 , 2.57729291, 2.56712279, 2.56699352, 2.56152226]),\n",
       " 'fit_time': (9.071525812149048,\n",
       "  10.16540265083313,\n",
       "  9.348378896713257,\n",
       "  10.173844814300537,\n",
       "  9.689411878585815),\n",
       " 'test_time': (15.649230003356934,\n",
       "  8.986984014511108,\n",
       "  9.357165098190308,\n",
       "  10.365325927734375,\n",
       "  10.689113140106201)}"
      ]
     },
     "execution_count": 45,
     "metadata": {},
     "output_type": "execute_result"
    }
   ],
   "source": [
    "algo = gs_bl_c1.best_estimator['mae']\n",
    "cross_validate(algo, data1, measures=['MAE'], cv=5, verbose=True)\n",
    "#algo.fit(data0.build_full_trainset())"
   ]
  },
  {
   "cell_type": "code",
   "execution_count": 28,
   "metadata": {
    "scrolled": true
   },
   "outputs": [
    {
     "name": "stdout",
     "output_type": "stream",
     "text": [
      "Using SGD, set param_grid\n",
      "grid search\n",
      "fitting BaselineOnly\n",
      "Estimating biases using sgd...\n",
      "Estimating biases using sgd...\n",
      "Estimating biases using sgd...\n",
      "Estimating biases using sgd...\n",
      "Estimating biases using sgd...\n",
      "Estimating biases using sgd...\n",
      "Estimating biases using sgd...\n",
      "Estimating biases using sgd...\n",
      "Estimating biases using sgd...\n",
      "Estimating biases using sgd...\n",
      "Estimating biases using sgd...\n",
      "Estimating biases using sgd...\n",
      "Estimating biases using sgd...\n",
      "Estimating biases using sgd...\n",
      "Estimating biases using sgd...\n",
      "Estimating biases using sgd...\n",
      "Estimating biases using sgd...\n",
      "Estimating biases using sgd...\n",
      "Estimating biases using sgd...\n",
      "Estimating biases using sgd...\n",
      "Estimating biases using sgd...\n",
      "Estimating biases using sgd...\n",
      "Estimating biases using sgd...\n",
      "Estimating biases using sgd...\n",
      "Estimating biases using sgd...\n",
      "Estimating biases using sgd...\n",
      "Estimating biases using sgd...\n",
      "Estimating biases using sgd...\n",
      "Estimating biases using sgd...\n",
      "Estimating biases using sgd...\n",
      "Estimating biases using sgd...\n",
      "Estimating biases using sgd...\n",
      "Estimating biases using sgd...\n",
      "Estimating biases using sgd...\n",
      "Estimating biases using sgd...\n",
      "Estimating biases using sgd...\n",
      "4.69296511099283\n",
      "{'bsl_options': {'method': 'sgd', 'reg': 0.002, 'learning_rate': 0.005, 'n_epochs': 20}}\n"
     ]
    }
   ],
   "source": [
    "# grid search for hyper parameter tuning \n",
    "# data1\n",
    "# baseline \n",
    "# SGD\n",
    "\n",
    "print('Using SGD, set param_grid')\n",
    "param_grid = {'bsl_options': {'method': ['sgd'],\n",
    "                              'reg': [0.2, 0.02, 0.002],\n",
    "                              'learning_rate': [0.005, 0.05],\n",
    "                              'n_epochs':[15, 20]}\n",
    "              }\n",
    "\n",
    "print('grid search')\n",
    "gs_bl2_c1 = GridSearchCV(BaselineOnly, param_grid, measures=['rmse'], cv=3)\n",
    "\n",
    "print('fitting BaselineOnly')\n",
    "gs_bl2_c1.fit(data1)\n",
    "\n",
    "# best RMSE score\n",
    "print(gs_bl2_c1.best_score['rmse'])\n",
    "\n",
    "# combination of parameters that gave the best RMSE score\n",
    "print(gs_bl2_c1.best_params['rmse'])"
   ]
  },
  {
   "cell_type": "code",
   "execution_count": 29,
   "metadata": {},
   "outputs": [
    {
     "name": "stdout",
     "output_type": "stream",
     "text": [
      "Using SVD, set param_grid\n",
      "grid search\n",
      "fitting SVD\n",
      "4.6184231856959235\n",
      "{'n_epochs': 10, 'lr_all': 0.002, 'reg_all': 0.2}\n"
     ]
    }
   ],
   "source": [
    "# grid search for hyper parameter tuning \n",
    "# data1\n",
    "# SVD\n",
    "\n",
    "from surprise.model_selection import GridSearchCV\n",
    "print('Using SVD, set param_grid')\n",
    "param_grid = {'n_epochs': [5, 10], 'lr_all': [0.002, 0.005],\n",
    "              'reg_all': [0.2, 0.4, 0.6]}\n",
    "\n",
    "\n",
    "print('grid search')\n",
    "gs_svd_c1 = GridSearchCV(SVD, param_grid, measures=['rmse'], cv=3)\n",
    "\n",
    "print('fitting SVD')\n",
    "gs_svd_c1.fit(data1)\n",
    "\n",
    "# best RMSE score\n",
    "print(gs_svd_c1.best_score['rmse'])\n",
    "\n",
    "# combination of parameters that gave the best RMSE score\n",
    "print(gs_svd_c1.best_params['rmse'])"
   ]
  },
  {
   "cell_type": "code",
   "execution_count": null,
   "metadata": {},
   "outputs": [],
   "source": []
  },
  {
   "cell_type": "code",
   "execution_count": 32,
   "metadata": {},
   "outputs": [
    {
     "name": "stdout",
     "output_type": "stream",
     "text": [
      "Using CoClustering, set param_grid\n",
      "grid search\n",
      "fitting CoClustering\n",
      "4.720553959511959\n",
      "{'n_cltr_u': 3, 'n_cltr_i': 2, 'n_epochs': 20}\n"
     ]
    }
   ],
   "source": [
    "# grid search for hyper parameter tuning \n",
    "# data1\n",
    "# CoClustering\n",
    "\n",
    "from surprise.model_selection import GridSearchCV\n",
    "print('Using CoClustering, set param_grid')\n",
    "param_grid = {'n_cltr_u': [2,3,4], 'n_cltr_i': [2,3,4],\n",
    "              'n_epochs': [15,20]}\n",
    "\n",
    "\n",
    "print('grid search')\n",
    "gs_cc_c1 = GridSearchCV(CoClustering, param_grid, measures=['rmse'], cv=3)\n",
    "\n",
    "print('fitting CoClustering')\n",
    "gs_cc_c1.fit(data1)\n",
    "\n",
    "# best RMSE score\n",
    "print(gs_cc_c1.best_score['rmse'])\n",
    "\n",
    "# combination of parameters that gave the best RMSE score\n",
    "print(gs_cc_c1.best_params['rmse'])"
   ]
  },
  {
   "cell_type": "code",
   "execution_count": 46,
   "metadata": {},
   "outputs": [
    {
     "name": "stdout",
     "output_type": "stream",
     "text": [
      "Using CoClustering, set param_grid\n",
      "grid search\n",
      "fitting CoClustering\n",
      "2.5843522353754342\n",
      "{'n_cltr_u': 2, 'n_cltr_i': 4, 'n_epochs': 15}\n"
     ]
    }
   ],
   "source": [
    "# grid search for hyper parameter tuning \n",
    "# data1\n",
    "# CoClustering\n",
    "\n",
    "from surprise.model_selection import GridSearchCV\n",
    "print('Using CoClustering, set param_grid')\n",
    "param_grid = {'n_cltr_u': [2,3,4], 'n_cltr_i': [2,3,4],\n",
    "              'n_epochs': [15,20]}\n",
    "\n",
    "\n",
    "print('grid search')\n",
    "gs_cc_c1 = GridSearchCV(CoClustering, param_grid, measures=['mae'], cv=3)\n",
    "\n",
    "print('fitting CoClustering')\n",
    "gs_cc_c1.fit(data1)\n",
    "\n",
    "# best RMSE score\n",
    "print(gs_cc_c1.best_score['mae'])\n",
    "\n",
    "# combination of parameters that gave the best RMSE score\n",
    "print(gs_cc_c1.best_params['mae'])"
   ]
  },
  {
   "cell_type": "code",
   "execution_count": 47,
   "metadata": {},
   "outputs": [
    {
     "name": "stdout",
     "output_type": "stream",
     "text": [
      "Evaluating MAE of algorithm CoClustering on 5 split(s).\n",
      "\n",
      "                  Fold 1  Fold 2  Fold 3  Fold 4  Fold 5  Mean    Std     \n",
      "MAE (testset)     2.5711  2.5634  2.5720  2.5788  2.5786  2.5728  0.0057  \n",
      "Fit time          63.34   59.24   61.63   60.84   63.93   61.79   1.70    \n",
      "Test time         27.89   21.35   20.46   13.17   72.21   31.02   21.12   \n"
     ]
    },
    {
     "data": {
      "text/plain": [
       "{'test_mae': array([2.57107035, 2.56339981, 2.57204354, 2.57877365, 2.57859222]),\n",
       " 'fit_time': (63.339065074920654,\n",
       "  59.242690086364746,\n",
       "  61.628377199172974,\n",
       "  60.837337017059326,\n",
       "  63.92515015602112),\n",
       " 'test_time': (27.893249988555908,\n",
       "  21.349342107772827,\n",
       "  20.458837032318115,\n",
       "  13.170156002044678,\n",
       "  72.2122061252594)}"
      ]
     },
     "execution_count": 47,
     "metadata": {},
     "output_type": "execute_result"
    }
   ],
   "source": [
    "algo = gs_cc_c1.best_estimator['mae']\n",
    "cross_validate(algo, data1, measures=['MAE'], cv=5, verbose=True)\n",
    "#algo.fit(data0.build_full_trainset())"
   ]
  },
  {
   "cell_type": "markdown",
   "metadata": {},
   "source": [
    "#### cluster2\n",
    "\n",
    "baseline, "
   ]
  },
  {
   "cell_type": "code",
   "execution_count": 33,
   "metadata": {
    "scrolled": true
   },
   "outputs": [
    {
     "name": "stdout",
     "output_type": "stream",
     "text": [
      "Using ALS, set param_grid\n",
      "grid search\n",
      "fitting BaselineOnly\n",
      "Estimating biases using als...\n",
      "Estimating biases using als...\n",
      "Estimating biases using als...\n",
      "Estimating biases using als...\n",
      "Estimating biases using als...\n",
      "Estimating biases using als...\n",
      "Estimating biases using als...\n",
      "Estimating biases using als...\n",
      "Estimating biases using als...\n",
      "Estimating biases using als...\n",
      "Estimating biases using als...\n",
      "Estimating biases using als...\n",
      "Estimating biases using als...\n",
      "Estimating biases using als...\n",
      "Estimating biases using als...\n",
      "Estimating biases using als...\n",
      "Estimating biases using als...\n",
      "Estimating biases using als...\n",
      "Estimating biases using als...\n",
      "Estimating biases using als...\n",
      "Estimating biases using als...\n",
      "Estimating biases using als...\n",
      "Estimating biases using als...\n",
      "Estimating biases using als...\n",
      "Estimating biases using als...\n",
      "Estimating biases using als...\n",
      "Estimating biases using als...\n",
      "Estimating biases using als...\n",
      "Estimating biases using als...\n",
      "Estimating biases using als...\n",
      "Estimating biases using als...\n",
      "Estimating biases using als...\n",
      "Estimating biases using als...\n",
      "Estimating biases using als...\n",
      "Estimating biases using als...\n",
      "Estimating biases using als...\n",
      "Estimating biases using als...\n",
      "Estimating biases using als...\n",
      "Estimating biases using als...\n",
      "Estimating biases using als...\n",
      "Estimating biases using als...\n",
      "Estimating biases using als...\n",
      "Estimating biases using als...\n",
      "Estimating biases using als...\n",
      "Estimating biases using als...\n",
      "Estimating biases using als...\n",
      "Estimating biases using als...\n",
      "Estimating biases using als...\n",
      "1.9677107751711838\n",
      "{'bsl_options': {'method': 'als', 'reg_i': 1, 'reg_u': 1.5, 'n_epochs': 10}}\n"
     ]
    }
   ],
   "source": [
    "# grid search for hyper parameter tuning \n",
    "# data2\n",
    "# baseline \n",
    "# ALS\n",
    "from surprise.model_selection import GridSearchCV\n",
    "print('Using ALS, set param_grid')\n",
    "param_grid = {'bsl_options': {'method': ['als'],\n",
    "                              'reg_i': [10, 1, 0.1, 0.01],\n",
    "                              'reg_u': [15, 1.5],\n",
    "                              'n_epochs':[5, 10]}\n",
    "              }\n",
    "\n",
    "print('grid search')\n",
    "gs_bl_c2 = GridSearchCV(BaselineOnly, param_grid, measures=['rmse'], cv=3)\n",
    "\n",
    "print('fitting BaselineOnly')\n",
    "gs_bl_c2.fit(data2)\n",
    "\n",
    "# best RMSE score\n",
    "print(gs_bl_c2.best_score['rmse'])\n",
    "\n",
    "# combination of parameters that gave the best RMSE score\n",
    "print(gs_bl_c2.best_params['rmse'])"
   ]
  },
  {
   "cell_type": "code",
   "execution_count": 34,
   "metadata": {
    "scrolled": true
   },
   "outputs": [
    {
     "name": "stdout",
     "output_type": "stream",
     "text": [
      "Using SGD, set param_grid\n",
      "grid search\n",
      "fitting BaselineOnly\n",
      "Estimating biases using sgd...\n",
      "Estimating biases using sgd...\n",
      "Estimating biases using sgd...\n",
      "Estimating biases using sgd...\n",
      "Estimating biases using sgd...\n",
      "Estimating biases using sgd...\n",
      "Estimating biases using sgd...\n",
      "Estimating biases using sgd...\n",
      "Estimating biases using sgd...\n",
      "Estimating biases using sgd...\n",
      "Estimating biases using sgd...\n",
      "Estimating biases using sgd...\n",
      "Estimating biases using sgd...\n",
      "Estimating biases using sgd...\n",
      "Estimating biases using sgd...\n",
      "Estimating biases using sgd...\n",
      "Estimating biases using sgd...\n",
      "Estimating biases using sgd...\n",
      "Estimating biases using sgd...\n",
      "Estimating biases using sgd...\n",
      "Estimating biases using sgd...\n",
      "Estimating biases using sgd...\n",
      "Estimating biases using sgd...\n",
      "Estimating biases using sgd...\n",
      "Estimating biases using sgd...\n",
      "Estimating biases using sgd...\n",
      "Estimating biases using sgd...\n",
      "Estimating biases using sgd...\n",
      "Estimating biases using sgd...\n",
      "Estimating biases using sgd...\n",
      "Estimating biases using sgd...\n",
      "Estimating biases using sgd...\n",
      "Estimating biases using sgd...\n",
      "Estimating biases using sgd...\n",
      "Estimating biases using sgd...\n",
      "Estimating biases using sgd...\n",
      "1.9849036438376748\n",
      "{'bsl_options': {'method': 'sgd', 'reg': 0.002, 'learning_rate': 0.005, 'n_epochs': 20}}\n"
     ]
    }
   ],
   "source": [
    "# grid search for hyper parameter tuning \n",
    "# data1\n",
    "# baseline \n",
    "# SGD\n",
    "\n",
    "print('Using SGD, set param_grid')\n",
    "param_grid = {'bsl_options': {'method': ['sgd'],\n",
    "                              'reg': [0.2, 0.02, 0.002],\n",
    "                              'learning_rate': [0.005, 0.05],\n",
    "                              'n_epochs':[15, 20]}\n",
    "              }\n",
    "\n",
    "print('grid search')\n",
    "gs_bl2_c2 = GridSearchCV(BaselineOnly, param_grid, measures=['rmse'], cv=3)\n",
    "\n",
    "print('fitting BaselineOnly')\n",
    "gs_bl2_c2.fit(data2)\n",
    "\n",
    "# best RMSE score\n",
    "print(gs_bl2_c2.best_score['rmse'])\n",
    "\n",
    "# combination of parameters that gave the best RMSE score\n",
    "print(gs_bl2_c2.best_params['rmse'])"
   ]
  },
  {
   "cell_type": "code",
   "execution_count": 35,
   "metadata": {},
   "outputs": [
    {
     "name": "stdout",
     "output_type": "stream",
     "text": [
      "Using SVD, set param_grid\n",
      "grid search\n",
      "fitting SVD\n",
      "1.9845060382419426\n",
      "{'n_epochs': 10, 'lr_all': 0.005, 'reg_all': 0.2}\n"
     ]
    }
   ],
   "source": [
    "# grid search for hyper parameter tuning \n",
    "# data2\n",
    "# SVD\n",
    "\n",
    "from surprise.model_selection import GridSearchCV\n",
    "print('Using SVD, set param_grid')\n",
    "param_grid = {'n_epochs': [5, 10], 'lr_all': [0.002, 0.005],\n",
    "              'reg_all': [0.2, 0.4, 0.6]}\n",
    "\n",
    "\n",
    "print('grid search')\n",
    "gs_svd_c2 = GridSearchCV(SVD, param_grid, measures=['rmse'], cv=3)\n",
    "\n",
    "print('fitting SVD')\n",
    "gs_svd_c2.fit(data2)\n",
    "\n",
    "# best RMSE score\n",
    "print(gs_svd_c2.best_score['rmse'])\n",
    "\n",
    "# combination of parameters that gave the best RMSE score\n",
    "print(gs_svd_c2.best_params['rmse'])"
   ]
  },
  {
   "cell_type": "code",
   "execution_count": null,
   "metadata": {},
   "outputs": [],
   "source": []
  }
 ],
 "metadata": {
  "kernelspec": {
   "display_name": "Python 3",
   "language": "python",
   "name": "python3"
  },
  "language_info": {
   "codemirror_mode": {
    "name": "ipython",
    "version": 3
   },
   "file_extension": ".py",
   "mimetype": "text/x-python",
   "name": "python",
   "nbconvert_exporter": "python",
   "pygments_lexer": "ipython3",
   "version": "3.8.5"
  }
 },
 "nbformat": 4,
 "nbformat_minor": 4
}
