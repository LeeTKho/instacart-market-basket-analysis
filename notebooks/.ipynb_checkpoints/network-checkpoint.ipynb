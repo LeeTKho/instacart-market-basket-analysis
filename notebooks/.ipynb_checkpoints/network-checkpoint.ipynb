{
 "cells": [
  {
   "cell_type": "code",
   "execution_count": 5,
   "metadata": {},
   "outputs": [],
   "source": [
    "import numpy as np\n",
    "import pandas as pd\n",
    "import matplotlib.pyplot as plt\n",
    "import seaborn as sns\n",
    "from sklearn.cluster import KMeans\n",
    "import numpy as np\n",
    "import collections\n",
    "from itertools import combinations\n",
    "import networkx as nx\n",
    "\n",
    "plt.style.use('ggplot')"
   ]
  },
  {
   "cell_type": "code",
   "execution_count": null,
   "metadata": {},
   "outputs": [],
   "source": [
    "aisles = pd.read_csv(\"../data/aisles.csv\")\n",
    "departments = pd.read_csv(\"../data/departments.csv\")\n",
    "op_prior = pd.read_csv(\"../data/order_products__prior.csv\")\n",
    "op_train = pd.read_csv(\"../data/order_products__train.csv\")\n",
    "orders = pd.read_csv(\"../data/orders.csv\")\n",
    "products = pd.read_csv(\"../data/products.csv\")"
   ]
  },
  {
   "cell_type": "code",
   "execution_count": null,
   "metadata": {},
   "outputs": [],
   "source": [
    "aisles.columns"
   ]
  },
  {
   "cell_type": "code",
   "execution_count": null,
   "metadata": {},
   "outputs": [],
   "source": [
    "departments.columns"
   ]
  },
  {
   "cell_type": "code",
   "execution_count": null,
   "metadata": {},
   "outputs": [],
   "source": [
    "op_prior.columns"
   ]
  },
  {
   "cell_type": "code",
   "execution_count": null,
   "metadata": {},
   "outputs": [],
   "source": [
    "orders.columns"
   ]
  },
  {
   "cell_type": "code",
   "execution_count": null,
   "metadata": {},
   "outputs": [],
   "source": [
    "products.columns"
   ]
  },
  {
   "cell_type": "code",
   "execution_count": null,
   "metadata": {},
   "outputs": [],
   "source": [
    "op_prior_extra = op_prior.merge(products[['product_id', 'product_name']],\n",
    "                               on=['product_id', 'product_id'])"
   ]
  },
  {
   "cell_type": "code",
   "execution_count": null,
   "metadata": {},
   "outputs": [],
   "source": [
    "op_prior_extra = op_prior_extra.merge(products[['product_id','aisle_id','department_id']],\n",
    "                               on=['product_id','product_id'])"
   ]
  },
  {
   "cell_type": "code",
   "execution_count": null,
   "metadata": {},
   "outputs": [],
   "source": [
    "op_prior_extra = op_prior_extra.merge(departments[['department_id','department']],\n",
    "                               on=['department_id','department_id'])"
   ]
  },
  {
   "cell_type": "code",
   "execution_count": null,
   "metadata": {},
   "outputs": [],
   "source": [
    "op_prior_extra[op_prior_extra.department=='bulk']"
   ]
  },
  {
   "cell_type": "markdown",
   "metadata": {},
   "source": [
    "**NETWORK**"
   ]
  },
  {
   "cell_type": "code",
   "execution_count": null,
   "metadata": {
    "scrolled": true
   },
   "outputs": [],
   "source": [
    "product_occurrences = pd.DataFrame(op_prior['product_id'].value_counts()).reset_index()\n",
    "product_occurrences.columns = ['product_id','occurrences']"
   ]
  },
  {
   "cell_type": "code",
   "execution_count": null,
   "metadata": {},
   "outputs": [],
   "source": [
    "product_occurrences = product_occurrences.merge(products[['product_id','product_name']],on=['product_id','product_id'])"
   ]
  },
  {
   "cell_type": "code",
   "execution_count": null,
   "metadata": {
    "scrolled": true
   },
   "outputs": [],
   "source": [
    "top_30_products = product_occurrences.loc[:30,'product_id'].tolist()\n",
    "# top_100_products.head()"
   ]
  },
  {
   "cell_type": "code",
   "execution_count": null,
   "metadata": {},
   "outputs": [],
   "source": [
    "order_products = op_prior.drop(['add_to_cart_order','reordered'],axis=1)"
   ]
  },
  {
   "cell_type": "code",
   "execution_count": null,
   "metadata": {},
   "outputs": [],
   "source": [
    "order_products = order_products.merge(products[['product_id','product_name']],on=['product_id','product_id'])"
   ]
  },
  {
   "cell_type": "code",
   "execution_count": null,
   "metadata": {},
   "outputs": [],
   "source": [
    "order_departments = order_products.merge(products[['product_id','product_name','aisle_id','department_id']],on=['product_id','product_id'])"
   ]
  },
  {
   "cell_type": "code",
   "execution_count": null,
   "metadata": {},
   "outputs": [],
   "source": [
    "order_products = order_products[order_products['product_id'].isin(top_30_products)]"
   ]
  },
  {
   "cell_type": "code",
   "execution_count": null,
   "metadata": {
    "scrolled": true
   },
   "outputs": [],
   "source": [
    "order_products_1h = pd.get_dummies(order_products,prefix='',prefix_sep='').groupby(['order_id']).sum()"
   ]
  },
  {
   "cell_type": "code",
   "execution_count": null,
   "metadata": {
    "scrolled": true
   },
   "outputs": [],
   "source": [
    "products_list = order_products_1h.columns[1:]"
   ]
  },
  {
   "cell_type": "code",
   "execution_count": null,
   "metadata": {},
   "outputs": [],
   "source": [
    "order_products_1h_subset = order_products_1h.sample(100000)"
   ]
  },
  {
   "cell_type": "code",
   "execution_count": null,
   "metadata": {},
   "outputs": [],
   "source": [
    "order_products_1h_subset = order_products_1h_subset.reset_index()"
   ]
  },
  {
   "cell_type": "code",
   "execution_count": null,
   "metadata": {},
   "outputs": [],
   "source": [
    "order_products_1h_subset = order_products_1h_subset.drop('product_id',axis=1)"
   ]
  },
  {
   "cell_type": "code",
   "execution_count": null,
   "metadata": {
    "scrolled": true
   },
   "outputs": [],
   "source": [
    "order_products_1h_subset['prod_list'] = np.nan\n",
    "order_products_1h_subset['prod_list'] = order_products_1h_subset['prod_list'].apply(lambda x: [])\n",
    "\n",
    "for row in order_products_1h_subset.index:   \n",
    "    for col in order_products_1h_subset.columns[1:-1]:\n",
    "        if order_products_1h_subset.loc[row,col]==0:\n",
    "            pass\n",
    "        else:\n",
    "            order_products_1h_subset.loc[row,'prod_list'].append(col)"
   ]
  },
  {
   "cell_type": "code",
   "execution_count": null,
   "metadata": {},
   "outputs": [],
   "source": [
    "nodes = products_list"
   ]
  },
  {
   "cell_type": "code",
   "execution_count": null,
   "metadata": {},
   "outputs": [],
   "source": [
    "edges = []\n",
    "for row in order_products_1h_subset.index:\n",
    "#     print(order_products_1h_subset.loc[row,'prod_list'])\n",
    "    edges+=combinations(order_products_1h_subset.loc[row,'prod_list'],2)"
   ]
  },
  {
   "cell_type": "code",
   "execution_count": null,
   "metadata": {
    "scrolled": true
   },
   "outputs": [],
   "source": [
    "weight_dict = collections.Counter(edges)"
   ]
  },
  {
   "cell_type": "code",
   "execution_count": null,
   "metadata": {},
   "outputs": [],
   "source": [
    "len(weight_dict )"
   ]
  },
  {
   "cell_type": "code",
   "execution_count": null,
   "metadata": {},
   "outputs": [],
   "source": [
    "uniq_edges = list(set(edges))"
   ]
  },
  {
   "cell_type": "code",
   "execution_count": null,
   "metadata": {},
   "outputs": [],
   "source": [
    "for i in range(len(uniq_edges)):\n",
    "    uniq_edges[i] = uniq_edges[i]+(weight_dict[uniq_edges[i]],)"
   ]
  },
  {
   "cell_type": "code",
   "execution_count": null,
   "metadata": {},
   "outputs": [],
   "source": [
    "G = nx.Graph()\n",
    "\n",
    "G.add_nodes_from(products_list)\n",
    "# G.add_edges_from(uniq_edges)\n",
    "\n",
    "for edge in uniq_edges: \n",
    "    G.add_edge(edge[0],edge[1],weight=edge[2])\n",
    "\n",
    "plt.figure(figsize=(20,20))\n",
    "weights = nx.get_edge_attributes(G,'weight').values()\n",
    "\n",
    "pos = nx.spring_layout(G)\n",
    "nx.draw(G, pos, \n",
    "        edge_color='blue', \n",
    "        width=[n*.001 for n in list(weights)],\n",
    "        with_labels=True,\n",
    "        node_color='lightgreen',\n",
    "        node_size=1000)\n",
    "\n",
    "x_values, y_values = zip(*pos.values())\n",
    "x_max = max(x_values)\n",
    "x_min = min(x_values)\n",
    "x_margin = (x_max - x_min) * 0.1\n",
    "plt.xlim(x_min - x_margin, x_max + x_margin)\n",
    "plt.show()"
   ]
  }
 ],
 "metadata": {
  "kernelspec": {
   "display_name": "Python 3",
   "language": "python",
   "name": "python3"
  },
  "language_info": {
   "codemirror_mode": {
    "name": "ipython",
    "version": 3
   },
   "file_extension": ".py",
   "mimetype": "text/x-python",
   "name": "python",
   "nbconvert_exporter": "python",
   "pygments_lexer": "ipython3",
   "version": "3.8.5"
  }
 },
 "nbformat": 4,
 "nbformat_minor": 4
}
