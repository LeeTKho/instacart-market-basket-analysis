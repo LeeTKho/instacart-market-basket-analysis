{
 "cells": [
  {
   "cell_type": "code",
   "execution_count": 1,
   "metadata": {},
   "outputs": [],
   "source": [
    "import pandas as pd"
   ]
  },
  {
   "cell_type": "code",
   "execution_count": 3,
   "metadata": {},
   "outputs": [],
   "source": [
    "prod_15 = pd.read_csv(\"../data/products_over15.csv\")\n",
    "order_prod_prior = pd.read_csv(\"../data/order_products__prior.csv\")\n",
    "order_prod_train = pd.read_csv(\"../data/order_products__train.csv\")\n",
    "orders = pd.read_csv(\"../data/orders.csv\")"
   ]
  },
  {
   "cell_type": "code",
   "execution_count": 3,
   "metadata": {},
   "outputs": [],
   "source": [
    "#prod_15.head()"
   ]
  },
  {
   "cell_type": "code",
   "execution_count": 4,
   "metadata": {},
   "outputs": [],
   "source": [
    "#order_prod_prior.head()"
   ]
  },
  {
   "cell_type": "code",
   "execution_count": 5,
   "metadata": {},
   "outputs": [],
   "source": [
    "#order_prod_train.head()"
   ]
  },
  {
   "cell_type": "code",
   "execution_count": 6,
   "metadata": {},
   "outputs": [],
   "source": [
    "#orders.head()"
   ]
  },
  {
   "cell_type": "code",
   "execution_count": 4,
   "metadata": {},
   "outputs": [],
   "source": [
    "#len(order_prod_train.order_id.unique())"
   ]
  },
  {
   "cell_type": "code",
   "execution_count": 5,
   "metadata": {},
   "outputs": [],
   "source": [
    "#order_prod_train.shape"
   ]
  },
  {
   "cell_type": "code",
   "execution_count": 6,
   "metadata": {},
   "outputs": [],
   "source": [
    "#len(order_prod_prior.order_id.unique())"
   ]
  },
  {
   "cell_type": "code",
   "execution_count": 7,
   "metadata": {},
   "outputs": [],
   "source": [
    "#order_prod_prior.shape"
   ]
  },
  {
   "cell_type": "code",
   "execution_count": 8,
   "metadata": {},
   "outputs": [],
   "source": [
    "#order_prod_prior[order_prod_prior[\"order_id\"] == 6]"
   ]
  },
  {
   "cell_type": "code",
   "execution_count": 3,
   "metadata": {},
   "outputs": [],
   "source": [
    "order_prod = order_prod_prior.append(order_prod_train, ignore_index=True)"
   ]
  },
  {
   "cell_type": "code",
   "execution_count": 70,
   "metadata": {},
   "outputs": [
    {
     "data": {
      "text/html": [
       "<div>\n",
       "<style scoped>\n",
       "    .dataframe tbody tr th:only-of-type {\n",
       "        vertical-align: middle;\n",
       "    }\n",
       "\n",
       "    .dataframe tbody tr th {\n",
       "        vertical-align: top;\n",
       "    }\n",
       "\n",
       "    .dataframe thead th {\n",
       "        text-align: right;\n",
       "    }\n",
       "</style>\n",
       "<table border=\"1\" class=\"dataframe\">\n",
       "  <thead>\n",
       "    <tr style=\"text-align: right;\">\n",
       "      <th></th>\n",
       "      <th>order_id</th>\n",
       "      <th>product_id</th>\n",
       "      <th>add_to_cart_order</th>\n",
       "      <th>reordered</th>\n",
       "    </tr>\n",
       "  </thead>\n",
       "  <tbody>\n",
       "    <tr>\n",
       "      <th>0</th>\n",
       "      <td>2</td>\n",
       "      <td>33120</td>\n",
       "      <td>1</td>\n",
       "      <td>1</td>\n",
       "    </tr>\n",
       "    <tr>\n",
       "      <th>1</th>\n",
       "      <td>2</td>\n",
       "      <td>28985</td>\n",
       "      <td>2</td>\n",
       "      <td>1</td>\n",
       "    </tr>\n",
       "    <tr>\n",
       "      <th>2</th>\n",
       "      <td>2</td>\n",
       "      <td>9327</td>\n",
       "      <td>3</td>\n",
       "      <td>0</td>\n",
       "    </tr>\n",
       "    <tr>\n",
       "      <th>3</th>\n",
       "      <td>2</td>\n",
       "      <td>45918</td>\n",
       "      <td>4</td>\n",
       "      <td>1</td>\n",
       "    </tr>\n",
       "    <tr>\n",
       "      <th>4</th>\n",
       "      <td>2</td>\n",
       "      <td>30035</td>\n",
       "      <td>5</td>\n",
       "      <td>0</td>\n",
       "    </tr>\n",
       "  </tbody>\n",
       "</table>\n",
       "</div>"
      ],
      "text/plain": [
       "   order_id  product_id  add_to_cart_order  reordered\n",
       "0         2       33120                  1          1\n",
       "1         2       28985                  2          1\n",
       "2         2        9327                  3          0\n",
       "3         2       45918                  4          1\n",
       "4         2       30035                  5          0"
      ]
     },
     "execution_count": 70,
     "metadata": {},
     "output_type": "execute_result"
    }
   ],
   "source": [
    "#order_prod.head()"
   ]
  },
  {
   "cell_type": "code",
   "execution_count": 4,
   "metadata": {},
   "outputs": [
    {
     "data": {
      "text/html": [
       "<div>\n",
       "<style scoped>\n",
       "    .dataframe tbody tr th:only-of-type {\n",
       "        vertical-align: middle;\n",
       "    }\n",
       "\n",
       "    .dataframe tbody tr th {\n",
       "        vertical-align: top;\n",
       "    }\n",
       "\n",
       "    .dataframe thead th {\n",
       "        text-align: right;\n",
       "    }\n",
       "</style>\n",
       "<table border=\"1\" class=\"dataframe\">\n",
       "  <thead>\n",
       "    <tr style=\"text-align: right;\">\n",
       "      <th></th>\n",
       "      <th>order_id</th>\n",
       "      <th>product_id</th>\n",
       "    </tr>\n",
       "  </thead>\n",
       "  <tbody>\n",
       "    <tr>\n",
       "      <th>0</th>\n",
       "      <td>2</td>\n",
       "      <td>33120</td>\n",
       "    </tr>\n",
       "    <tr>\n",
       "      <th>1</th>\n",
       "      <td>2</td>\n",
       "      <td>28985</td>\n",
       "    </tr>\n",
       "    <tr>\n",
       "      <th>2</th>\n",
       "      <td>2</td>\n",
       "      <td>9327</td>\n",
       "    </tr>\n",
       "    <tr>\n",
       "      <th>3</th>\n",
       "      <td>2</td>\n",
       "      <td>45918</td>\n",
       "    </tr>\n",
       "    <tr>\n",
       "      <th>4</th>\n",
       "      <td>2</td>\n",
       "      <td>30035</td>\n",
       "    </tr>\n",
       "  </tbody>\n",
       "</table>\n",
       "</div>"
      ],
      "text/plain": [
       "   order_id  product_id\n",
       "0         2       33120\n",
       "1         2       28985\n",
       "2         2        9327\n",
       "3         2       45918\n",
       "4         2       30035"
      ]
     },
     "execution_count": 4,
     "metadata": {},
     "output_type": "execute_result"
    }
   ],
   "source": [
    "#order_prod['rating'] = order_prod['reordered'] + 1\n",
    "order_prod = order_prod.drop([\"add_to_cart_order\", \"reordered\"], axis = 1)\n",
    "order_prod.head()"
   ]
  },
  {
   "cell_type": "code",
   "execution_count": 54,
   "metadata": {},
   "outputs": [
    {
     "data": {
      "text/html": [
       "<div>\n",
       "<style scoped>\n",
       "    .dataframe tbody tr th:only-of-type {\n",
       "        vertical-align: middle;\n",
       "    }\n",
       "\n",
       "    .dataframe tbody tr th {\n",
       "        vertical-align: top;\n",
       "    }\n",
       "\n",
       "    .dataframe thead th {\n",
       "        text-align: right;\n",
       "    }\n",
       "</style>\n",
       "<table border=\"1\" class=\"dataframe\">\n",
       "  <thead>\n",
       "    <tr style=\"text-align: right;\">\n",
       "      <th></th>\n",
       "      <th>order_id</th>\n",
       "      <th>user_id</th>\n",
       "      <th>eval_set</th>\n",
       "      <th>order_number</th>\n",
       "      <th>order_dow</th>\n",
       "      <th>order_hour_of_day</th>\n",
       "      <th>days_since_prior_order</th>\n",
       "    </tr>\n",
       "  </thead>\n",
       "  <tbody>\n",
       "    <tr>\n",
       "      <th>0</th>\n",
       "      <td>2539329</td>\n",
       "      <td>1</td>\n",
       "      <td>prior</td>\n",
       "      <td>1</td>\n",
       "      <td>2</td>\n",
       "      <td>8</td>\n",
       "      <td>NaN</td>\n",
       "    </tr>\n",
       "    <tr>\n",
       "      <th>1</th>\n",
       "      <td>2398795</td>\n",
       "      <td>1</td>\n",
       "      <td>prior</td>\n",
       "      <td>2</td>\n",
       "      <td>3</td>\n",
       "      <td>7</td>\n",
       "      <td>15.0</td>\n",
       "    </tr>\n",
       "    <tr>\n",
       "      <th>2</th>\n",
       "      <td>473747</td>\n",
       "      <td>1</td>\n",
       "      <td>prior</td>\n",
       "      <td>3</td>\n",
       "      <td>3</td>\n",
       "      <td>12</td>\n",
       "      <td>21.0</td>\n",
       "    </tr>\n",
       "    <tr>\n",
       "      <th>3</th>\n",
       "      <td>2254736</td>\n",
       "      <td>1</td>\n",
       "      <td>prior</td>\n",
       "      <td>4</td>\n",
       "      <td>4</td>\n",
       "      <td>7</td>\n",
       "      <td>29.0</td>\n",
       "    </tr>\n",
       "    <tr>\n",
       "      <th>4</th>\n",
       "      <td>431534</td>\n",
       "      <td>1</td>\n",
       "      <td>prior</td>\n",
       "      <td>5</td>\n",
       "      <td>4</td>\n",
       "      <td>15</td>\n",
       "      <td>28.0</td>\n",
       "    </tr>\n",
       "  </tbody>\n",
       "</table>\n",
       "</div>"
      ],
      "text/plain": [
       "   order_id  user_id eval_set  order_number  order_dow  order_hour_of_day  \\\n",
       "0   2539329        1    prior             1          2                  8   \n",
       "1   2398795        1    prior             2          3                  7   \n",
       "2    473747        1    prior             3          3                 12   \n",
       "3   2254736        1    prior             4          4                  7   \n",
       "4    431534        1    prior             5          4                 15   \n",
       "\n",
       "   days_since_prior_order  \n",
       "0                     NaN  \n",
       "1                    15.0  \n",
       "2                    21.0  \n",
       "3                    29.0  \n",
       "4                    28.0  "
      ]
     },
     "execution_count": 54,
     "metadata": {},
     "output_type": "execute_result"
    }
   ],
   "source": [
    "#orders.head()"
   ]
  },
  {
   "cell_type": "code",
   "execution_count": 60,
   "metadata": {},
   "outputs": [
    {
     "data": {
      "text/plain": [
       "206209"
      ]
     },
     "execution_count": 60,
     "metadata": {},
     "output_type": "execute_result"
    }
   ],
   "source": [
    "#len(orders[\"user_id\"].unique())"
   ]
  },
  {
   "cell_type": "code",
   "execution_count": 5,
   "metadata": {},
   "outputs": [],
   "source": [
    "order_user = orders[['order_id', 'user_id']]\n",
    "#print(order_user.head())\n",
    "#print(order_prod.head())"
   ]
  },
  {
   "cell_type": "code",
   "execution_count": 73,
   "metadata": {},
   "outputs": [
    {
     "name": "stdout",
     "output_type": "stream",
     "text": [
      "(33819106, 2)\n",
      "(3421083, 2)\n"
     ]
    }
   ],
   "source": [
    "# orders and products by order \n",
    "#print(order_prod.shape)\n",
    "# order id - user id mapping \n",
    "#print(order_user.shape)"
   ]
  },
  {
   "cell_type": "code",
   "execution_count": 6,
   "metadata": {},
   "outputs": [
    {
     "data": {
      "text/html": [
       "<div>\n",
       "<style scoped>\n",
       "    .dataframe tbody tr th:only-of-type {\n",
       "        vertical-align: middle;\n",
       "    }\n",
       "\n",
       "    .dataframe tbody tr th {\n",
       "        vertical-align: top;\n",
       "    }\n",
       "\n",
       "    .dataframe thead th {\n",
       "        text-align: right;\n",
       "    }\n",
       "</style>\n",
       "<table border=\"1\" class=\"dataframe\">\n",
       "  <thead>\n",
       "    <tr style=\"text-align: right;\">\n",
       "      <th></th>\n",
       "      <th>product_id</th>\n",
       "      <th>user_id</th>\n",
       "    </tr>\n",
       "  </thead>\n",
       "  <tbody>\n",
       "    <tr>\n",
       "      <th>0</th>\n",
       "      <td>33120</td>\n",
       "      <td>202279</td>\n",
       "    </tr>\n",
       "    <tr>\n",
       "      <th>1</th>\n",
       "      <td>28985</td>\n",
       "      <td>202279</td>\n",
       "    </tr>\n",
       "    <tr>\n",
       "      <th>2</th>\n",
       "      <td>9327</td>\n",
       "      <td>202279</td>\n",
       "    </tr>\n",
       "    <tr>\n",
       "      <th>3</th>\n",
       "      <td>45918</td>\n",
       "      <td>202279</td>\n",
       "    </tr>\n",
       "    <tr>\n",
       "      <th>4</th>\n",
       "      <td>30035</td>\n",
       "      <td>202279</td>\n",
       "    </tr>\n",
       "  </tbody>\n",
       "</table>\n",
       "</div>"
      ],
      "text/plain": [
       "   product_id  user_id\n",
       "0       33120   202279\n",
       "1       28985   202279\n",
       "2        9327   202279\n",
       "3       45918   202279\n",
       "4       30035   202279"
      ]
     },
     "execution_count": 6,
     "metadata": {},
     "output_type": "execute_result"
    }
   ],
   "source": [
    "user_prod = pd.merge(order_prod, order_user, on='order_id', how='left').drop('order_id', axis = 1)\n",
    "user_prod.head()"
   ]
  },
  {
   "cell_type": "code",
   "execution_count": 77,
   "metadata": {},
   "outputs": [
    {
     "data": {
      "text/plain": [
       "(33819106, 2)"
      ]
     },
     "execution_count": 77,
     "metadata": {},
     "output_type": "execute_result"
    }
   ],
   "source": [
    "#user_prod.shape"
   ]
  },
  {
   "cell_type": "code",
   "execution_count": 7,
   "metadata": {},
   "outputs": [
    {
     "data": {
      "text/html": [
       "<div>\n",
       "<style scoped>\n",
       "    .dataframe tbody tr th:only-of-type {\n",
       "        vertical-align: middle;\n",
       "    }\n",
       "\n",
       "    .dataframe tbody tr th {\n",
       "        vertical-align: top;\n",
       "    }\n",
       "\n",
       "    .dataframe thead th {\n",
       "        text-align: right;\n",
       "    }\n",
       "</style>\n",
       "<table border=\"1\" class=\"dataframe\">\n",
       "  <thead>\n",
       "    <tr style=\"text-align: right;\">\n",
       "      <th></th>\n",
       "      <th>product_id</th>\n",
       "      <th>user_id</th>\n",
       "      <th>count</th>\n",
       "    </tr>\n",
       "  </thead>\n",
       "  <tbody>\n",
       "    <tr>\n",
       "      <th>0</th>\n",
       "      <td>33120</td>\n",
       "      <td>202279</td>\n",
       "      <td>1</td>\n",
       "    </tr>\n",
       "    <tr>\n",
       "      <th>1</th>\n",
       "      <td>28985</td>\n",
       "      <td>202279</td>\n",
       "      <td>1</td>\n",
       "    </tr>\n",
       "    <tr>\n",
       "      <th>2</th>\n",
       "      <td>9327</td>\n",
       "      <td>202279</td>\n",
       "      <td>1</td>\n",
       "    </tr>\n",
       "    <tr>\n",
       "      <th>3</th>\n",
       "      <td>45918</td>\n",
       "      <td>202279</td>\n",
       "      <td>1</td>\n",
       "    </tr>\n",
       "    <tr>\n",
       "      <th>4</th>\n",
       "      <td>30035</td>\n",
       "      <td>202279</td>\n",
       "      <td>1</td>\n",
       "    </tr>\n",
       "  </tbody>\n",
       "</table>\n",
       "</div>"
      ],
      "text/plain": [
       "   product_id  user_id  count\n",
       "0       33120   202279      1\n",
       "1       28985   202279      1\n",
       "2        9327   202279      1\n",
       "3       45918   202279      1\n",
       "4       30035   202279      1"
      ]
     },
     "execution_count": 7,
     "metadata": {},
     "output_type": "execute_result"
    }
   ],
   "source": [
    "user_prod['count'] = 1\n",
    "user_prod.head()"
   ]
  },
  {
   "cell_type": "code",
   "execution_count": 8,
   "metadata": {},
   "outputs": [],
   "source": [
    "# customer clusters \n",
    "cluster0 = pd.read_pickle('cluster_0')\n",
    "cluster1 = pd.read_pickle('cluster_1')\n",
    "cluster2 = pd.read_pickle('cluster_2')"
   ]
  },
  {
   "cell_type": "code",
   "execution_count": 9,
   "metadata": {},
   "outputs": [],
   "source": [
    "#user_prod.groupby([\"product_id\", \"user_id\"]).count()\n",
    "data = user_prod.groupby([\"product_id\", \"user_id\"])[\"count\"].count().reset_index(name=\"count\")"
   ]
  },
  {
   "cell_type": "code",
   "execution_count": 10,
   "metadata": {},
   "outputs": [],
   "source": [
    "data = data[['user_id','product_id', 'count']]\n",
    "#data"
   ]
  },
  {
   "cell_type": "code",
   "execution_count": 11,
   "metadata": {},
   "outputs": [],
   "source": [
    "samp_data = data.sample(frac=0.05, replace=False, random_state=1)"
   ]
  },
  {
   "cell_type": "code",
   "execution_count": 94,
   "metadata": {},
   "outputs": [
    {
     "name": "stdout",
     "output_type": "stream",
     "text": [
      "24703\n",
      "43035\n",
      "138471\n"
     ]
    }
   ],
   "source": [
    "#print(len(cluster0))\n",
    "#print(len(cluster1))\n",
    "#print(len(cluster2))"
   ]
  },
  {
   "cell_type": "code",
   "execution_count": 12,
   "metadata": {},
   "outputs": [],
   "source": [
    "# subset user-product into 3 subsets\n",
    "# with customer clusters \n",
    "data0 = data[data['user_id'].isin(cluster0)]\n",
    "data1 = data[data['user_id'].isin(cluster1)]\n",
    "data2 = data[data['user_id'].isin(cluster2)]"
   ]
  },
  {
   "cell_type": "code",
   "execution_count": 13,
   "metadata": {},
   "outputs": [],
   "source": [
    "samp_data2 = data2.sample(frac=0.1, replace=False, random_state=1)"
   ]
  },
  {
   "cell_type": "markdown",
   "metadata": {},
   "source": [
    "now data0, 1, 2 are preprocessed into format the surprise library takes.\n",
    "\n",
    "plan: run different recommender systems on these subsets of the data to see if performance changes from running it on all customers"
   ]
  },
  {
   "cell_type": "code",
   "execution_count": 104,
   "metadata": {
    "scrolled": true
   },
   "outputs": [
    {
     "name": "stdout",
     "output_type": "stream",
     "text": [
      "Collecting package metadata (current_repodata.json): done\n",
      "Solving environment: done\n",
      "\n",
      "## Package Plan ##\n",
      "\n",
      "  environment location: /opt/anaconda3\n",
      "\n",
      "  added / updated specs:\n",
      "    - scikit-surprise\n",
      "\n",
      "\n",
      "The following packages will be downloaded:\n",
      "\n",
      "    package                    |            build\n",
      "    ---------------------------|-----------------\n",
      "    scikit-surprise-1.1.1      |   py38h174b24a_1         586 KB  conda-forge\n",
      "    ------------------------------------------------------------\n",
      "                                           Total:         586 KB\n",
      "\n",
      "The following NEW packages will be INSTALLED:\n",
      "\n",
      "  scikit-surprise    conda-forge/osx-64::scikit-surprise-1.1.1-py38h174b24a_1\n",
      "\n",
      "\n",
      "\n",
      "Downloading and Extracting Packages\n",
      "scikit-surprise-1.1. | 586 KB    | ##################################### | 100% \n",
      "Preparing transaction: done\n",
      "Verifying transaction: done\n",
      "Executing transaction: done\n",
      "\n",
      "Note: you may need to restart the kernel to use updated packages.\n"
     ]
    }
   ],
   "source": [
    "#conda install -c conda-forge scikit-surprise"
   ]
  },
  {
   "cell_type": "markdown",
   "metadata": {},
   "source": [
    "#### General approach\n",
    "\n",
    "FILL IN"
   ]
  },
  {
   "cell_type": "code",
   "execution_count": 14,
   "metadata": {},
   "outputs": [],
   "source": [
    "from surprise import Dataset\n",
    "from surprise import Reader"
   ]
  },
  {
   "cell_type": "code",
   "execution_count": 15,
   "metadata": {},
   "outputs": [],
   "source": [
    "reader = Reader(rating_scale=(1, 101))\n",
    "data = Dataset.load_from_df(data[['user_id', 'product_id', 'count']], reader)\n",
    "data0 = Dataset.load_from_df(data0[['user_id', 'product_id', 'count']], reader)\n",
    "data1 = Dataset.load_from_df(data1[['user_id', 'product_id', 'count']], reader)\n",
    "data2 = Dataset.load_from_df(data2[['user_id', 'product_id', 'count']], reader)\n",
    "samp_data = Dataset.load_from_df(samp_data[['user_id', 'product_id', 'count']], reader)\n",
    "samp_data2 = Dataset.load_from_df(samp_data2[['user_id', 'product_id', 'count']], reader)"
   ]
  },
  {
   "cell_type": "code",
   "execution_count": 16,
   "metadata": {},
   "outputs": [],
   "source": [
    "from surprise import SVD\n",
    "from surprise.model_selection import cross_validate\n",
    "from surprise import accuracy\n",
    "from surprise.model_selection import train_test_split\n",
    "\n",
    "\n",
    "from surprise import SVDpp, NMF, SlopeOne, CoClustering, KNNBaseline, KNNBasic, KNNWithZScore, BaselineOnly"
   ]
  },
  {
   "cell_type": "markdown",
   "metadata": {},
   "source": [
    "First we run SVD on 1) full data and then 2) the 3 segments (full broken into 3 subsets) to see if performance differs. "
   ]
  },
  {
   "cell_type": "code",
   "execution_count": 126,
   "metadata": {},
   "outputs": [
    {
     "name": "stdout",
     "output_type": "stream",
     "text": [
      "split the data set: 75% train, 25% test\n",
      "fitting SVD, default config to establish baseline\n",
      "predict test set\n",
      "compute RMSE\n",
      "RMSE: 3.4414\n"
     ]
    },
    {
     "data": {
      "text/plain": [
       "3.4413818720856373"
      ]
     },
     "execution_count": 126,
     "metadata": {},
     "output_type": "execute_result"
    }
   ],
   "source": [
    "# baseline algo SVD on full data \n",
    "# just to establish baseline results\n",
    "\n",
    "\n",
    "print('split the data set: 75% train, 25% test')\n",
    "trainset, testset = train_test_split(data, test_size=.25)\n",
    "\n",
    "algo = SVD()\n",
    "#cross_validate(algo, data, measures=['RMSE', 'MAE'], cv=5, verbose=True)\n",
    "print('fitting SVD, default config to establish baseline')\n",
    "algo.fit(trainset)\n",
    "print('predict test set')\n",
    "predictions = algo.test(testset)\n",
    "\n",
    "print('compute RMSE')\n",
    "# Then compute RMSE\n",
    "accuracy.rmse(predictions)"
   ]
  },
  {
   "cell_type": "code",
   "execution_count": 19,
   "metadata": {},
   "outputs": [
    {
     "name": "stdout",
     "output_type": "stream",
     "text": [
      "split the data set: 75% train, 25% test\n",
      "fitting SVD, default config to establish baseline\n",
      "predict test set\n",
      "compute RMSE\n",
      "RMSE: 3.4878\n"
     ]
    },
    {
     "data": {
      "text/plain": [
       "3.4877520476501327"
      ]
     },
     "execution_count": 19,
     "metadata": {},
     "output_type": "execute_result"
    }
   ],
   "source": [
    "# baseline algo SVD on random sample of full data \n",
    "# to compare with full data results \n",
    "# just to establish baseline results\n",
    "\n",
    "\n",
    "print('split the data set: 75% train, 25% test')\n",
    "trainset, testset = train_test_split(samp_data, test_size=.25)\n",
    "\n",
    "algo = SVD()\n",
    "#cross_validate(algo, data, measures=['RMSE', 'MAE'], cv=5, verbose=True)\n",
    "print('fitting SVD, default config to establish baseline')\n",
    "algo.fit(trainset)\n",
    "print('predict test set')\n",
    "predictions = algo.test(testset)\n",
    "\n",
    "print('compute RMSE')\n",
    "# Then compute RMSE\n",
    "accuracy.rmse(predictions)"
   ]
  },
  {
   "cell_type": "code",
   "execution_count": 129,
   "metadata": {},
   "outputs": [
    {
     "name": "stdout",
     "output_type": "stream",
     "text": [
      "using data 0, customer segment  1\n",
      "split the data set: 75% train, 25% test\n",
      "initialize algo SVD\n",
      "fitting SVD, default config to establish baseline\n",
      "predict test set\n",
      "compute RMSE\n",
      "RMSE: 1.1116\n",
      "using data 1, customer segment  2\n",
      "split the data set: 75% train, 25% test\n",
      "initialize algo SVD\n",
      "fitting SVD, default config to establish baseline\n",
      "predict test set\n",
      "compute RMSE\n",
      "RMSE: 5.1809\n",
      "using data 2, customer segment  3\n",
      "split the data set: 75% train, 25% test\n",
      "initialize algo SVD\n",
      "fitting SVD, default config to establish baseline\n",
      "predict test set\n",
      "compute RMSE\n",
      "RMSE: 2.0765\n"
     ]
    }
   ],
   "source": [
    "# baseline algo SVD on data0, 1, 2\n",
    "d = {0:data0, 1:data1, 2:data2}\n",
    "\n",
    "for i in range(3):\n",
    "    df = d[i]\n",
    "    print(\"using data%2d, customer segment %2d\" % (i, i+1))\n",
    "    print('split the data set: 75% train, 25% test')\n",
    "    trainset, testset = train_test_split(df, test_size=.25)\n",
    "\n",
    "    print('initialize algo SVD')\n",
    "    algo = SVD()\n",
    "    \n",
    "    print('fitting SVD, default config to establish baseline')\n",
    "    algo.fit(trainset)\n",
    "    \n",
    "    print('predict test set')\n",
    "    predictions = algo.test(testset)\n",
    "\n",
    "    print('compute RMSE')\n",
    "    # Then compute RMSE\n",
    "    accuracy.rmse(predictions)"
   ]
  },
  {
   "cell_type": "code",
   "execution_count": 18,
   "metadata": {},
   "outputs": [
    {
     "name": "stdout",
     "output_type": "stream",
     "text": [
      "split the data set: 75% train, 25% test\n",
      "fitting NMF, default config to establish baseline\n",
      "predict test set\n",
      "compute RMSE\n",
      "RMSE: 3.6593\n"
     ]
    },
    {
     "data": {
      "text/plain": [
       "3.659340558583933"
      ]
     },
     "execution_count": 18,
     "metadata": {},
     "output_type": "execute_result"
    }
   ],
   "source": [
    "# baseline algo NMF on sample of full data \n",
    "# just to establish baseline results\n",
    "\n",
    "\n",
    "print('split the data set: 75% train, 25% test')\n",
    "trainset, testset = train_test_split(samp_data, test_size=.25)\n",
    "\n",
    "algo = NMF()\n",
    "#cross_validate(algo, data, measures=['RMSE', 'MAE'], cv=5, verbose=True)\n",
    "print('fitting NMF, default config to establish baseline')\n",
    "algo.fit(trainset)\n",
    "print('predict test set')\n",
    "predictions = algo.test(testset)\n",
    "\n",
    "print('compute RMSE')\n",
    "# Then compute RMSE\n",
    "accuracy.rmse(predictions)"
   ]
  },
  {
   "cell_type": "code",
   "execution_count": 17,
   "metadata": {},
   "outputs": [
    {
     "name": "stdout",
     "output_type": "stream",
     "text": [
      "using data 0, customer segment  1\n",
      "split the data set: 75% train, 25% test\n",
      "initialize algo NMF\n",
      "fitting NMF, default config to establish baseline\n",
      "predict test set\n",
      "compute RMSE\n",
      "RMSE: 1.2088\n",
      "using data 1, customer segment  2\n",
      "split the data set: 75% train, 25% test\n",
      "initialize algo NMF\n",
      "fitting NMF, default config to establish baseline\n",
      "predict test set\n",
      "compute RMSE\n",
      "RMSE: 5.2981\n",
      "using data 2, customer segment  3\n",
      "split the data set: 75% train, 25% test\n",
      "initialize algo NMF\n",
      "fitting NMF, default config to establish baseline\n",
      "predict test set\n",
      "compute RMSE\n",
      "RMSE: 2.0807\n"
     ]
    }
   ],
   "source": [
    "# NMF on data0, 1, 2\n",
    "d = {0:data0, 1:data1, 2:data2}\n",
    "\n",
    "for i in range(3):\n",
    "    df = d[i]\n",
    "    print(\"using data%2d, customer segment %2d\" % (i, i+1))\n",
    "    print('split the data set: 75% train, 25% test')\n",
    "    trainset, testset = train_test_split(df, test_size=.25)\n",
    "\n",
    "    print('initialize algo NMF')\n",
    "    algo = NMF()\n",
    "    \n",
    "    print('fitting NMF, default config to establish baseline')\n",
    "    algo.fit(trainset)\n",
    "    \n",
    "    print('predict test set')\n",
    "    predictions = algo.test(testset)\n",
    "\n",
    "    print('compute RMSE')\n",
    "    # Then compute RMSE\n",
    "    accuracy.rmse(predictions)"
   ]
  },
  {
   "cell_type": "code",
   "execution_count": null,
   "metadata": {},
   "outputs": [
    {
     "name": "stdout",
     "output_type": "stream",
     "text": [
      "TESTING: cluster 0\n",
      "split the data set: 75% train, 25% test\n",
      "initialize algo NMF\n",
      "fitting NMF, default config to establish baseline\n",
      "Computing the msd similarity matrix...\n",
      "Done computing similarity matrix.\n",
      "predict test set\n",
      "compute RMSE\n",
      "RMSE: 1.1660\n",
      "TESTING: cluster 2\n",
      "split the data set: 75% train, 25% test\n",
      "initialize algo NMF\n",
      "fitting NMF, default config to establish baseline\n",
      "Computing the msd similarity matrix...\n"
     ]
    }
   ],
   "source": [
    "# KNN only on data0 and data2, since it is computationally expensive on \n",
    "# matrix with large numbers of items\n",
    "\n",
    "small_orders = [data0, data2]\n",
    "names = ['cluster 0', 'cluster 2']\n",
    "for i in range(2):\n",
    "    \n",
    "    print('TESTING:', names[i])\n",
    "    dataset = small_orders[i]\n",
    "    \n",
    "    print('split the data set: 75% train, 25% test')\n",
    "    trainset, testset = train_test_split(dataset, test_size=.25)\n",
    "\n",
    "    print('initialize algo NMF')\n",
    "    algo = KNNBasic()\n",
    "    \n",
    "    print('fitting NMF, default config to establish baseline')\n",
    "    algo.fit(trainset)\n",
    "    \n",
    "    print('predict test set')\n",
    "    predictions = algo.test(testset)\n",
    "\n",
    "    print('compute RMSE')\n",
    "    # Then compute RMSE\n",
    "    accuracy.rmse(predictions)"
   ]
  },
  {
   "cell_type": "markdown",
   "metadata": {},
   "source": [
    "KNN kills kernel on all the data sets excpet for data0 (cluster0), seems to be too computationally expensive for larger matrices. At the same time, the result (RMSE) for data0 doesn't seem to outperform only algorithmns for baseline results."
   ]
  },
  {
   "cell_type": "markdown",
   "metadata": {},
   "source": [
    "#### loop through a selection of algorithms for 1) 5% of full data and 2) data0, try to find best algorithms "
   ]
  },
  {
   "cell_type": "code",
   "execution_count": 21,
   "metadata": {},
   "outputs": [
    {
     "name": "stdout",
     "output_type": "stream",
     "text": [
      "TESTING:  BaselineOnly\n",
      "split the data set: 75% train, 25% test\n",
      "fitting BaselineOnly , default config to establish baseline\n",
      "Estimating biases using als...\n",
      "predict test set\n",
      "compute RMSE\n",
      "RMSE: 3.3716\n",
      "TESTING:  SVDpp\n",
      "split the data set: 75% train, 25% test\n",
      "fitting SVDpp , default config to establish baseline\n",
      "predict test set\n",
      "compute RMSE\n",
      "RMSE: 3.6213\n",
      "TESTING:  SlopeOne\n",
      "split the data set: 75% train, 25% test\n",
      "fitting SlopeOne , default config to establish baseline\n",
      "predict test set\n",
      "compute RMSE\n",
      "RMSE: 4.0174\n",
      "TESTING:  CoClustering\n",
      "split the data set: 75% train, 25% test\n",
      "fitting CoClustering , default config to establish baseline\n",
      "predict test set\n",
      "compute RMSE\n",
      "RMSE: 4.8722\n"
     ]
    }
   ],
   "source": [
    "'''\n",
    "benchmark = []\n",
    "algos = [BaselineOnly(), SVDpp(), KNNBasic(), NMF(), CoClustering()]\n",
    "algo_names = ['BaselineOnly','SVDpp', 'KNNBasic','NMF', 'CoClustering']\n",
    "# Iterate over all algorithms\n",
    "for i in range(len(algos)):\n",
    "    print('testing: ', algo_names[i])\n",
    "    algorithm = algos[i]\n",
    "    \n",
    "    # Perform cross validation\n",
    "    print('cross validation')\n",
    "    results = cross_validate(algorithm, samp_data, measures=['RMSE'], cv=3, verbose=False)\n",
    "    \n",
    "    # Get results & append algorithm name\n",
    "    tmp = pd.DataFrame.from_dict(results).mean(axis=0)\n",
    "    tmp = tmp.append(pd.Series([str(algorithm).split(' ')[0].split('.')[-1]], index=['Algorithm']))\n",
    "    benchmark.append(tmp)\n",
    "    \n",
    "pd.DataFrame(benchmark).set_index('Algorithm').sort_values('test_rmse')  \n",
    "\n",
    "'''\n",
    "algos = [BaselineOnly(), SVDpp(), SlopeOne(), CoClustering()]\n",
    "algo_names = ['BaselineOnly','SVDpp', 'SlopeOne','CoClustering']\n",
    "bm = {'BaselineOnly':0,'SVDpp':0, 'SlopeOne':0,'CoClustering':0}\n",
    "\n",
    "for i in range(len(algos)):\n",
    "    print('TESTING: ', algo_names[i])\n",
    "    algorithm = algos[i]\n",
    "    \n",
    "    print('split the data set: 75% train, 25% test')\n",
    "    trainset, testset = train_test_split(samp_data, test_size=.25)\n",
    "\n",
    "    print('fitting', algo_names[i],', default config to establish baseline')\n",
    "    algorithm.fit(trainset)\n",
    "    print('predict test set')\n",
    "    predictions = algorithm.test(testset)\n",
    "\n",
    "    print('compute RMSE')\n",
    "    # Then compute RMSE\n",
    "    acc = accuracy.rmse(predictions)\n",
    "    bm[algo_names[i]] = acc "
   ]
  },
  {
   "cell_type": "code",
   "execution_count": 22,
   "metadata": {},
   "outputs": [
    {
     "name": "stdout",
     "output_type": "stream",
     "text": [
      "Estimating biases using als...\n",
      "Estimating biases using als...\n",
      "Estimating biases using als...\n"
     ]
    },
    {
     "data": {
      "text/html": [
       "<div>\n",
       "<style scoped>\n",
       "    .dataframe tbody tr th:only-of-type {\n",
       "        vertical-align: middle;\n",
       "    }\n",
       "\n",
       "    .dataframe tbody tr th {\n",
       "        vertical-align: top;\n",
       "    }\n",
       "\n",
       "    .dataframe thead th {\n",
       "        text-align: right;\n",
       "    }\n",
       "</style>\n",
       "<table border=\"1\" class=\"dataframe\">\n",
       "  <thead>\n",
       "    <tr style=\"text-align: right;\">\n",
       "      <th></th>\n",
       "      <th>test_rmse</th>\n",
       "      <th>fit_time</th>\n",
       "      <th>test_time</th>\n",
       "    </tr>\n",
       "    <tr>\n",
       "      <th>Algorithm</th>\n",
       "      <th></th>\n",
       "      <th></th>\n",
       "      <th></th>\n",
       "    </tr>\n",
       "  </thead>\n",
       "  <tbody>\n",
       "    <tr>\n",
       "      <th>BaselineOnly</th>\n",
       "      <td>3.401873</td>\n",
       "      <td>1.646250</td>\n",
       "      <td>1.303675</td>\n",
       "    </tr>\n",
       "    <tr>\n",
       "      <th>SVD</th>\n",
       "      <td>3.448130</td>\n",
       "      <td>23.575058</td>\n",
       "      <td>2.433299</td>\n",
       "    </tr>\n",
       "    <tr>\n",
       "      <th>SVDpp</th>\n",
       "      <td>3.580704</td>\n",
       "      <td>50.176859</td>\n",
       "      <td>3.832049</td>\n",
       "    </tr>\n",
       "    <tr>\n",
       "      <th>NMF</th>\n",
       "      <td>3.697266</td>\n",
       "      <td>34.388143</td>\n",
       "      <td>5.054507</td>\n",
       "    </tr>\n",
       "    <tr>\n",
       "      <th>CoClustering</th>\n",
       "      <td>3.726586</td>\n",
       "      <td>19.216695</td>\n",
       "      <td>1.437688</td>\n",
       "    </tr>\n",
       "    <tr>\n",
       "      <th>SlopeOne</th>\n",
       "      <td>4.052783</td>\n",
       "      <td>35.033196</td>\n",
       "      <td>3.883378</td>\n",
       "    </tr>\n",
       "  </tbody>\n",
       "</table>\n",
       "</div>"
      ],
      "text/plain": [
       "              test_rmse   fit_time  test_time\n",
       "Algorithm                                    \n",
       "BaselineOnly   3.401873   1.646250   1.303675\n",
       "SVD            3.448130  23.575058   2.433299\n",
       "SVDpp          3.580704  50.176859   3.832049\n",
       "NMF            3.697266  34.388143   5.054507\n",
       "CoClustering   3.726586  19.216695   1.437688\n",
       "SlopeOne       4.052783  35.033196   3.883378"
      ]
     },
     "execution_count": 22,
     "metadata": {},
     "output_type": "execute_result"
    }
   ],
   "source": [
    "# try CV, so results more robust\n",
    "benchmark = []\n",
    "# Iterate over all algorithms\n",
    "for algorithm in [SVD(), SVDpp(), SlopeOne(), NMF(), BaselineOnly(), CoClustering()]:\n",
    "    # Perform cross validation\n",
    "    results = cross_validate(algorithm, samp_data, measures=['RMSE'], cv=3, verbose=False)\n",
    "    \n",
    "    # Get results & append algorithm name\n",
    "    tmp = pd.DataFrame.from_dict(results).mean(axis=0)\n",
    "    tmp = tmp.append(pd.Series([str(algorithm).split(' ')[0].split('.')[-1]], index=['Algorithm']))\n",
    "    benchmark.append(tmp)\n",
    "    \n",
    "pd.DataFrame(benchmark).set_index('Algorithm').sort_values('test_rmse')    \n"
   ]
  },
  {
   "cell_type": "code",
   "execution_count": 24,
   "metadata": {},
   "outputs": [
    {
     "name": "stdout",
     "output_type": "stream",
     "text": [
      "Estimating biases using als...\n",
      "Estimating biases using als...\n",
      "Estimating biases using als...\n",
      "Estimating biases using als...\n",
      "Estimating biases using als...\n"
     ]
    },
    {
     "data": {
      "text/html": [
       "<div>\n",
       "<style scoped>\n",
       "    .dataframe tbody tr th:only-of-type {\n",
       "        vertical-align: middle;\n",
       "    }\n",
       "\n",
       "    .dataframe tbody tr th {\n",
       "        vertical-align: top;\n",
       "    }\n",
       "\n",
       "    .dataframe thead th {\n",
       "        text-align: right;\n",
       "    }\n",
       "</style>\n",
       "<table border=\"1\" class=\"dataframe\">\n",
       "  <thead>\n",
       "    <tr style=\"text-align: right;\">\n",
       "      <th></th>\n",
       "      <th>test_mae</th>\n",
       "      <th>fit_time</th>\n",
       "      <th>test_time</th>\n",
       "    </tr>\n",
       "    <tr>\n",
       "      <th>Algorithm</th>\n",
       "      <th></th>\n",
       "      <th></th>\n",
       "      <th></th>\n",
       "    </tr>\n",
       "  </thead>\n",
       "  <tbody>\n",
       "    <tr>\n",
       "      <th>NMF</th>\n",
       "      <td>1.765764</td>\n",
       "      <td>40.374601</td>\n",
       "      <td>1.680190</td>\n",
       "    </tr>\n",
       "    <tr>\n",
       "      <th>BaselineOnly</th>\n",
       "      <td>1.788431</td>\n",
       "      <td>1.882875</td>\n",
       "      <td>1.225406</td>\n",
       "    </tr>\n",
       "    <tr>\n",
       "      <th>SVD</th>\n",
       "      <td>1.793454</td>\n",
       "      <td>28.874786</td>\n",
       "      <td>1.990464</td>\n",
       "    </tr>\n",
       "    <tr>\n",
       "      <th>CoClustering</th>\n",
       "      <td>1.980306</td>\n",
       "      <td>21.925307</td>\n",
       "      <td>1.794411</td>\n",
       "    </tr>\n",
       "  </tbody>\n",
       "</table>\n",
       "</div>"
      ],
      "text/plain": [
       "              test_mae   fit_time  test_time\n",
       "Algorithm                                   \n",
       "NMF           1.765764  40.374601   1.680190\n",
       "BaselineOnly  1.788431   1.882875   1.225406\n",
       "SVD           1.793454  28.874786   1.990464\n",
       "CoClustering  1.980306  21.925307   1.794411"
      ]
     },
     "execution_count": 24,
     "metadata": {},
     "output_type": "execute_result"
    }
   ],
   "source": [
    "# try CV, so results more robust\n",
    "benchmark = []\n",
    "# Iterate over all algorithms\n",
    "for algorithm in [SVD(), NMF(), BaselineOnly(), CoClustering()]:\n",
    "    # Perform cross validation\n",
    "    results = cross_validate(algorithm, samp_data, measures=['MAE'], cv=5, verbose=False)\n",
    "    \n",
    "    # Get results & append algorithm name\n",
    "    tmp = pd.DataFrame.from_dict(results).mean(axis=0)\n",
    "    tmp = tmp.append(pd.Series([str(algorithm).split(' ')[0].split('.')[-1]], index=['Algorithm']))\n",
    "    benchmark.append(tmp)\n",
    "    \n",
    "pd.DataFrame(benchmark).set_index('Algorithm').sort_values('test_mae')    \n",
    "\n"
   ]
  },
  {
   "cell_type": "code",
   "execution_count": 18,
   "metadata": {},
   "outputs": [
    {
     "name": "stdout",
     "output_type": "stream",
     "text": [
      "Computing the msd similarity matrix...\n",
      "Done computing similarity matrix.\n",
      "Computing the msd similarity matrix...\n",
      "Done computing similarity matrix.\n",
      "Computing the msd similarity matrix...\n",
      "Done computing similarity matrix.\n",
      "Computing the msd similarity matrix...\n",
      "Done computing similarity matrix.\n",
      "Computing the msd similarity matrix...\n",
      "Done computing similarity matrix.\n",
      "Estimating biases using als...\n",
      "Estimating biases using als...\n",
      "Estimating biases using als...\n",
      "Estimating biases using als...\n",
      "Estimating biases using als...\n"
     ]
    },
    {
     "data": {
      "text/html": [
       "<div>\n",
       "<style scoped>\n",
       "    .dataframe tbody tr th:only-of-type {\n",
       "        vertical-align: middle;\n",
       "    }\n",
       "\n",
       "    .dataframe tbody tr th {\n",
       "        vertical-align: top;\n",
       "    }\n",
       "\n",
       "    .dataframe thead th {\n",
       "        text-align: right;\n",
       "    }\n",
       "</style>\n",
       "<table border=\"1\" class=\"dataframe\">\n",
       "  <thead>\n",
       "    <tr style=\"text-align: right;\">\n",
       "      <th></th>\n",
       "      <th>test_rmse</th>\n",
       "      <th>fit_time</th>\n",
       "      <th>test_time</th>\n",
       "    </tr>\n",
       "    <tr>\n",
       "      <th>Algorithm</th>\n",
       "      <th></th>\n",
       "      <th></th>\n",
       "      <th></th>\n",
       "    </tr>\n",
       "  </thead>\n",
       "  <tbody>\n",
       "    <tr>\n",
       "      <th>BaselineOnly</th>\n",
       "      <td>1.089678</td>\n",
       "      <td>0.755848</td>\n",
       "      <td>0.739492</td>\n",
       "    </tr>\n",
       "    <tr>\n",
       "      <th>SVD</th>\n",
       "      <td>1.108454</td>\n",
       "      <td>13.752308</td>\n",
       "      <td>0.993355</td>\n",
       "    </tr>\n",
       "    <tr>\n",
       "      <th>KNNBasic</th>\n",
       "      <td>1.164634</td>\n",
       "      <td>29.795149</td>\n",
       "      <td>17.647200</td>\n",
       "    </tr>\n",
       "    <tr>\n",
       "      <th>NMF</th>\n",
       "      <td>1.204137</td>\n",
       "      <td>16.401314</td>\n",
       "      <td>0.840477</td>\n",
       "    </tr>\n",
       "  </tbody>\n",
       "</table>\n",
       "</div>"
      ],
      "text/plain": [
       "              test_rmse   fit_time  test_time\n",
       "Algorithm                                    \n",
       "BaselineOnly   1.089678   0.755848   0.739492\n",
       "SVD            1.108454  13.752308   0.993355\n",
       "KNNBasic       1.164634  29.795149  17.647200\n",
       "NMF            1.204137  16.401314   0.840477"
      ]
     },
     "execution_count": 18,
     "metadata": {},
     "output_type": "execute_result"
    }
   ],
   "source": [
    "# try CV on data0\n",
    "# try CV, so results more robust\n",
    "benchmark_0 = []\n",
    "# Iterate over all algorithms\n",
    "for algorithm in [SVD(), NMF(), KNNBasic(), BaselineOnly()]:\n",
    "    # Perform cross validation\n",
    "    results = cross_validate(algorithm, data0, measures=['RMSE'], cv=5, verbose=False)\n",
    "    \n",
    "    # Get results & append algorithm name\n",
    "    tmp = pd.DataFrame.from_dict(results).mean(axis=0)\n",
    "    tmp = tmp.append(pd.Series([str(algorithm).split(' ')[0].split('.')[-1]], index=['Algorithm']))\n",
    "    benchmark_0.append(tmp) # changed to benchmark_0 after error msg\n",
    "    \n",
    "pd.DataFrame(benchmark_0).set_index('Algorithm').sort_values('test_rmse')    \n",
    "\n",
    "\n"
   ]
  },
  {
   "cell_type": "code",
   "execution_count": 19,
   "metadata": {
    "scrolled": true
   },
   "outputs": [
    {
     "name": "stdout",
     "output_type": "stream",
     "text": [
      "Computing the msd similarity matrix...\n",
      "Done computing similarity matrix.\n",
      "Computing the msd similarity matrix...\n",
      "Done computing similarity matrix.\n",
      "Computing the msd similarity matrix...\n",
      "Done computing similarity matrix.\n",
      "Computing the msd similarity matrix...\n",
      "Done computing similarity matrix.\n",
      "Computing the msd similarity matrix...\n",
      "Done computing similarity matrix.\n",
      "Estimating biases using als...\n",
      "Estimating biases using als...\n",
      "Estimating biases using als...\n",
      "Estimating biases using als...\n",
      "Estimating biases using als...\n"
     ]
    },
    {
     "ename": "KeyError",
     "evalue": "'test_rmse'",
     "output_type": "error",
     "traceback": [
      "\u001b[0;31m---------------------------------------------------------------------------\u001b[0m",
      "\u001b[0;31mKeyError\u001b[0m                                  Traceback (most recent call last)",
      "\u001b[0;32m<ipython-input-19-ccddf79090fd>\u001b[0m in \u001b[0;36m<module>\u001b[0;34m\u001b[0m\n\u001b[1;32m     12\u001b[0m     \u001b[0mbenchmark_0\u001b[0m\u001b[0;34m.\u001b[0m\u001b[0mappend\u001b[0m\u001b[0;34m(\u001b[0m\u001b[0mtmp\u001b[0m\u001b[0;34m)\u001b[0m \u001b[0;31m# changed to benchmark_0 after error msg\u001b[0m\u001b[0;34m\u001b[0m\u001b[0;34m\u001b[0m\u001b[0m\n\u001b[1;32m     13\u001b[0m \u001b[0;34m\u001b[0m\u001b[0m\n\u001b[0;32m---> 14\u001b[0;31m \u001b[0mpd\u001b[0m\u001b[0;34m.\u001b[0m\u001b[0mDataFrame\u001b[0m\u001b[0;34m(\u001b[0m\u001b[0mbenchmark_0\u001b[0m\u001b[0;34m)\u001b[0m\u001b[0;34m.\u001b[0m\u001b[0mset_index\u001b[0m\u001b[0;34m(\u001b[0m\u001b[0;34m'Algorithm'\u001b[0m\u001b[0;34m)\u001b[0m\u001b[0;34m.\u001b[0m\u001b[0msort_values\u001b[0m\u001b[0;34m(\u001b[0m\u001b[0;34m'test_rmse'\u001b[0m\u001b[0;34m)\u001b[0m\u001b[0;34m\u001b[0m\u001b[0;34m\u001b[0m\u001b[0m\n\u001b[0m\u001b[1;32m     15\u001b[0m \u001b[0;34m\u001b[0m\u001b[0m\n\u001b[1;32m     16\u001b[0m \u001b[0;34m\u001b[0m\u001b[0m\n",
      "\u001b[0;32m/opt/anaconda3/lib/python3.8/site-packages/pandas/core/frame.py\u001b[0m in \u001b[0;36msort_values\u001b[0;34m(self, by, axis, ascending, inplace, kind, na_position, ignore_index, key)\u001b[0m\n\u001b[1;32m   5292\u001b[0m \u001b[0;34m\u001b[0m\u001b[0m\n\u001b[1;32m   5293\u001b[0m             \u001b[0mby\u001b[0m \u001b[0;34m=\u001b[0m \u001b[0mby\u001b[0m\u001b[0;34m[\u001b[0m\u001b[0;36m0\u001b[0m\u001b[0;34m]\u001b[0m\u001b[0;34m\u001b[0m\u001b[0;34m\u001b[0m\u001b[0m\n\u001b[0;32m-> 5294\u001b[0;31m             \u001b[0mk\u001b[0m \u001b[0;34m=\u001b[0m \u001b[0mself\u001b[0m\u001b[0;34m.\u001b[0m\u001b[0m_get_label_or_level_values\u001b[0m\u001b[0;34m(\u001b[0m\u001b[0mby\u001b[0m\u001b[0;34m,\u001b[0m \u001b[0maxis\u001b[0m\u001b[0;34m=\u001b[0m\u001b[0maxis\u001b[0m\u001b[0;34m)\u001b[0m\u001b[0;34m\u001b[0m\u001b[0;34m\u001b[0m\u001b[0m\n\u001b[0m\u001b[1;32m   5295\u001b[0m \u001b[0;34m\u001b[0m\u001b[0m\n\u001b[1;32m   5296\u001b[0m             \u001b[0;31m# need to rewrap column in Series to apply key function\u001b[0m\u001b[0;34m\u001b[0m\u001b[0;34m\u001b[0m\u001b[0;34m\u001b[0m\u001b[0m\n",
      "\u001b[0;32m/opt/anaconda3/lib/python3.8/site-packages/pandas/core/generic.py\u001b[0m in \u001b[0;36m_get_label_or_level_values\u001b[0;34m(self, key, axis)\u001b[0m\n\u001b[1;32m   1561\u001b[0m             \u001b[0mvalues\u001b[0m \u001b[0;34m=\u001b[0m \u001b[0mself\u001b[0m\u001b[0;34m.\u001b[0m\u001b[0maxes\u001b[0m\u001b[0;34m[\u001b[0m\u001b[0maxis\u001b[0m\u001b[0;34m]\u001b[0m\u001b[0;34m.\u001b[0m\u001b[0mget_level_values\u001b[0m\u001b[0;34m(\u001b[0m\u001b[0mkey\u001b[0m\u001b[0;34m)\u001b[0m\u001b[0;34m.\u001b[0m\u001b[0m_values\u001b[0m\u001b[0;34m\u001b[0m\u001b[0;34m\u001b[0m\u001b[0m\n\u001b[1;32m   1562\u001b[0m         \u001b[0;32melse\u001b[0m\u001b[0;34m:\u001b[0m\u001b[0;34m\u001b[0m\u001b[0;34m\u001b[0m\u001b[0m\n\u001b[0;32m-> 1563\u001b[0;31m             \u001b[0;32mraise\u001b[0m \u001b[0mKeyError\u001b[0m\u001b[0;34m(\u001b[0m\u001b[0mkey\u001b[0m\u001b[0;34m)\u001b[0m\u001b[0;34m\u001b[0m\u001b[0;34m\u001b[0m\u001b[0m\n\u001b[0m\u001b[1;32m   1564\u001b[0m \u001b[0;34m\u001b[0m\u001b[0m\n\u001b[1;32m   1565\u001b[0m         \u001b[0;31m# Check for duplicates\u001b[0m\u001b[0;34m\u001b[0m\u001b[0;34m\u001b[0m\u001b[0;34m\u001b[0m\u001b[0m\n",
      "\u001b[0;31mKeyError\u001b[0m: 'test_rmse'"
     ]
    }
   ],
   "source": [
    "# try CV on data0\n",
    "# try CV, so results more robust\n",
    "benchmark_0 = []\n",
    "# Iterate over all algorithms\n",
    "for algorithm in [SVD(), NMF(), KNNBasic(), BaselineOnly()]:\n",
    "    # Perform cross validation\n",
    "    results = cross_validate(algorithm, data0, measures=['MAE'], cv=5, verbose=False)\n",
    "    \n",
    "    # Get results & append algorithm name\n",
    "    tmp = pd.DataFrame.from_dict(results).mean(axis=0)\n",
    "    tmp = tmp.append(pd.Series([str(algorithm).split(' ')[0].split('.')[-1]], index=['Algorithm']))\n",
    "    benchmark_0.append(tmp) # changed to benchmark_0 after error msg\n",
    "    \n",
    "pd.DataFrame(benchmark_0).set_index('Algorithm').sort_values('test_mae')    \n",
    "\n",
    "\n",
    "\n"
   ]
  },
  {
   "cell_type": "code",
   "execution_count": 20,
   "metadata": {},
   "outputs": [
    {
     "data": {
      "text/html": [
       "<div>\n",
       "<style scoped>\n",
       "    .dataframe tbody tr th:only-of-type {\n",
       "        vertical-align: middle;\n",
       "    }\n",
       "\n",
       "    .dataframe tbody tr th {\n",
       "        vertical-align: top;\n",
       "    }\n",
       "\n",
       "    .dataframe thead th {\n",
       "        text-align: right;\n",
       "    }\n",
       "</style>\n",
       "<table border=\"1\" class=\"dataframe\">\n",
       "  <thead>\n",
       "    <tr style=\"text-align: right;\">\n",
       "      <th></th>\n",
       "      <th>test_mae</th>\n",
       "      <th>fit_time</th>\n",
       "      <th>test_time</th>\n",
       "    </tr>\n",
       "    <tr>\n",
       "      <th>Algorithm</th>\n",
       "      <th></th>\n",
       "      <th></th>\n",
       "      <th></th>\n",
       "    </tr>\n",
       "  </thead>\n",
       "  <tbody>\n",
       "    <tr>\n",
       "      <th>NMF</th>\n",
       "      <td>0.651845</td>\n",
       "      <td>16.290065</td>\n",
       "      <td>1.333666</td>\n",
       "    </tr>\n",
       "    <tr>\n",
       "      <th>SVD</th>\n",
       "      <td>0.675950</td>\n",
       "      <td>13.615016</td>\n",
       "      <td>1.805387</td>\n",
       "    </tr>\n",
       "    <tr>\n",
       "      <th>BaselineOnly</th>\n",
       "      <td>0.681747</td>\n",
       "      <td>0.747039</td>\n",
       "      <td>0.781782</td>\n",
       "    </tr>\n",
       "    <tr>\n",
       "      <th>KNNBasic</th>\n",
       "      <td>0.694083</td>\n",
       "      <td>29.732582</td>\n",
       "      <td>17.471893</td>\n",
       "    </tr>\n",
       "  </tbody>\n",
       "</table>\n",
       "</div>"
      ],
      "text/plain": [
       "              test_mae   fit_time  test_time\n",
       "Algorithm                                   \n",
       "NMF           0.651845  16.290065   1.333666\n",
       "SVD           0.675950  13.615016   1.805387\n",
       "BaselineOnly  0.681747   0.747039   0.781782\n",
       "KNNBasic      0.694083  29.732582  17.471893"
      ]
     },
     "execution_count": 20,
     "metadata": {},
     "output_type": "execute_result"
    }
   ],
   "source": [
    "pd.DataFrame(benchmark_0).set_index('Algorithm').sort_values('test_mae')    "
   ]
  },
  {
   "cell_type": "code",
   "execution_count": 27,
   "metadata": {},
   "outputs": [
    {
     "data": {
      "text/html": [
       "<div>\n",
       "<style scoped>\n",
       "    .dataframe tbody tr th:only-of-type {\n",
       "        vertical-align: middle;\n",
       "    }\n",
       "\n",
       "    .dataframe tbody tr th {\n",
       "        vertical-align: top;\n",
       "    }\n",
       "\n",
       "    .dataframe thead th {\n",
       "        text-align: right;\n",
       "    }\n",
       "</style>\n",
       "<table border=\"1\" class=\"dataframe\">\n",
       "  <thead>\n",
       "    <tr style=\"text-align: right;\">\n",
       "      <th></th>\n",
       "      <th>test_rmse</th>\n",
       "      <th>fit_time</th>\n",
       "      <th>test_time</th>\n",
       "    </tr>\n",
       "    <tr>\n",
       "      <th>Algorithm</th>\n",
       "      <th></th>\n",
       "      <th></th>\n",
       "      <th></th>\n",
       "    </tr>\n",
       "  </thead>\n",
       "  <tbody>\n",
       "    <tr>\n",
       "      <th>BaselineOnly</th>\n",
       "      <td>1.093106</td>\n",
       "      <td>0.658078</td>\n",
       "      <td>2.811652</td>\n",
       "    </tr>\n",
       "    <tr>\n",
       "      <th>SVD</th>\n",
       "      <td>1.111859</td>\n",
       "      <td>11.503051</td>\n",
       "      <td>0.867332</td>\n",
       "    </tr>\n",
       "    <tr>\n",
       "      <th>SVDpp</th>\n",
       "      <td>1.123760</td>\n",
       "      <td>40.772415</td>\n",
       "      <td>2.609253</td>\n",
       "    </tr>\n",
       "    <tr>\n",
       "      <th>KNNBasic</th>\n",
       "      <td>1.178905</td>\n",
       "      <td>27.027613</td>\n",
       "      <td>18.394223</td>\n",
       "    </tr>\n",
       "    <tr>\n",
       "      <th>CoClustering</th>\n",
       "      <td>1.187577</td>\n",
       "      <td>6.708118</td>\n",
       "      <td>0.470420</td>\n",
       "    </tr>\n",
       "    <tr>\n",
       "      <th>SlopeOne</th>\n",
       "      <td>1.203635</td>\n",
       "      <td>15.992062</td>\n",
       "      <td>4.766140</td>\n",
       "    </tr>\n",
       "    <tr>\n",
       "      <th>NMF</th>\n",
       "      <td>1.204027</td>\n",
       "      <td>14.137813</td>\n",
       "      <td>3.620358</td>\n",
       "    </tr>\n",
       "    <tr>\n",
       "      <th>BaselineOnly</th>\n",
       "      <td>3.401873</td>\n",
       "      <td>1.646250</td>\n",
       "      <td>1.303675</td>\n",
       "    </tr>\n",
       "    <tr>\n",
       "      <th>SVD</th>\n",
       "      <td>3.448130</td>\n",
       "      <td>23.575058</td>\n",
       "      <td>2.433299</td>\n",
       "    </tr>\n",
       "    <tr>\n",
       "      <th>SVDpp</th>\n",
       "      <td>3.580704</td>\n",
       "      <td>50.176859</td>\n",
       "      <td>3.832049</td>\n",
       "    </tr>\n",
       "    <tr>\n",
       "      <th>NMF</th>\n",
       "      <td>3.697266</td>\n",
       "      <td>34.388143</td>\n",
       "      <td>5.054507</td>\n",
       "    </tr>\n",
       "    <tr>\n",
       "      <th>CoClustering</th>\n",
       "      <td>3.726586</td>\n",
       "      <td>19.216695</td>\n",
       "      <td>1.437688</td>\n",
       "    </tr>\n",
       "    <tr>\n",
       "      <th>SlopeOne</th>\n",
       "      <td>4.052783</td>\n",
       "      <td>35.033196</td>\n",
       "      <td>3.883378</td>\n",
       "    </tr>\n",
       "  </tbody>\n",
       "</table>\n",
       "</div>"
      ],
      "text/plain": [
       "              test_rmse   fit_time  test_time\n",
       "Algorithm                                    \n",
       "BaselineOnly   1.093106   0.658078   2.811652\n",
       "SVD            1.111859  11.503051   0.867332\n",
       "SVDpp          1.123760  40.772415   2.609253\n",
       "KNNBasic       1.178905  27.027613  18.394223\n",
       "CoClustering   1.187577   6.708118   0.470420\n",
       "SlopeOne       1.203635  15.992062   4.766140\n",
       "NMF            1.204027  14.137813   3.620358\n",
       "BaselineOnly   3.401873   1.646250   1.303675\n",
       "SVD            3.448130  23.575058   2.433299\n",
       "SVDpp          3.580704  50.176859   3.832049\n",
       "NMF            3.697266  34.388143   5.054507\n",
       "CoClustering   3.726586  19.216695   1.437688\n",
       "SlopeOne       4.052783  35.033196   3.883378"
      ]
     },
     "execution_count": 27,
     "metadata": {},
     "output_type": "execute_result"
    }
   ],
   "source": [
    "# typo from block above, forgot to change to benchmark_0 when append\n",
    "# here benchmark is actually benchmark_0\n",
    "pd.DataFrame(benchmark).set_index('Algorithm').sort_values('test_rmse')    "
   ]
  },
  {
   "cell_type": "code",
   "execution_count": 29,
   "metadata": {},
   "outputs": [
    {
     "name": "stdout",
     "output_type": "stream",
     "text": [
      "here\n",
      "here\n",
      "here\n",
      "here\n",
      "here\n",
      "Estimating biases using als...\n",
      "Estimating biases using als...\n",
      "Estimating biases using als...\n",
      "here\n"
     ]
    },
    {
     "data": {
      "text/html": [
       "<div>\n",
       "<style scoped>\n",
       "    .dataframe tbody tr th:only-of-type {\n",
       "        vertical-align: middle;\n",
       "    }\n",
       "\n",
       "    .dataframe tbody tr th {\n",
       "        vertical-align: top;\n",
       "    }\n",
       "\n",
       "    .dataframe thead th {\n",
       "        text-align: right;\n",
       "    }\n",
       "</style>\n",
       "<table border=\"1\" class=\"dataframe\">\n",
       "  <thead>\n",
       "    <tr style=\"text-align: right;\">\n",
       "      <th></th>\n",
       "      <th>test_rmse</th>\n",
       "      <th>fit_time</th>\n",
       "      <th>test_time</th>\n",
       "    </tr>\n",
       "    <tr>\n",
       "      <th>Algorithm</th>\n",
       "      <th></th>\n",
       "      <th></th>\n",
       "      <th></th>\n",
       "    </tr>\n",
       "  </thead>\n",
       "  <tbody>\n",
       "    <tr>\n",
       "      <th>SlopeOne</th>\n",
       "      <td>4.659422</td>\n",
       "      <td>427.155067</td>\n",
       "      <td>492.065826</td>\n",
       "    </tr>\n",
       "    <tr>\n",
       "      <th>BaselineOnly</th>\n",
       "      <td>4.670651</td>\n",
       "      <td>7.742253</td>\n",
       "      <td>14.524952</td>\n",
       "    </tr>\n",
       "    <tr>\n",
       "      <th>CoClustering</th>\n",
       "      <td>4.763332</td>\n",
       "      <td>50.662264</td>\n",
       "      <td>19.170414</td>\n",
       "    </tr>\n",
       "    <tr>\n",
       "      <th>SVD</th>\n",
       "      <td>5.138838</td>\n",
       "      <td>171.908334</td>\n",
       "      <td>14.471877</td>\n",
       "    </tr>\n",
       "    <tr>\n",
       "      <th>NMF</th>\n",
       "      <td>5.368413</td>\n",
       "      <td>175.410924</td>\n",
       "      <td>19.289022</td>\n",
       "    </tr>\n",
       "    <tr>\n",
       "      <th>SVDpp</th>\n",
       "      <td>97.827278</td>\n",
       "      <td>3442.271826</td>\n",
       "      <td>158.484391</td>\n",
       "    </tr>\n",
       "  </tbody>\n",
       "</table>\n",
       "</div>"
      ],
      "text/plain": [
       "              test_rmse     fit_time   test_time\n",
       "Algorithm                                       \n",
       "SlopeOne       4.659422   427.155067  492.065826\n",
       "BaselineOnly   4.670651     7.742253   14.524952\n",
       "CoClustering   4.763332    50.662264   19.170414\n",
       "SVD            5.138838   171.908334   14.471877\n",
       "NMF            5.368413   175.410924   19.289022\n",
       "SVDpp         97.827278  3442.271826  158.484391"
      ]
     },
     "execution_count": 29,
     "metadata": {},
     "output_type": "execute_result"
    }
   ],
   "source": [
    "# try CV on data1\n",
    "# try CV, so results more robust\n",
    "benchmark_1 = []\n",
    "# Iterate over all algorithms\n",
    "for algorithm in [SVD(), SVDpp(), SlopeOne(), NMF(), BaselineOnly(), CoClustering()]:\n",
    "    print('here')\n",
    "    # Perform cross validation\n",
    "    results = cross_validate(algorithm, data1, measures=['RMSE'], cv=3, verbose=False)\n",
    "    \n",
    "    # Get results & append algorithm name\n",
    "    tmp = pd.DataFrame.from_dict(results).mean(axis=0)\n",
    "    tmp = tmp.append(pd.Series([str(algorithm).split(' ')[0].split('.')[-1]], index=['Algorithm']))\n",
    "    benchmark_1.append(tmp)\n",
    "    \n",
    "pd.DataFrame(benchmark_1).set_index('Algorithm').sort_values('test_rmse')    \n",
    "\n",
    "\n"
   ]
  },
  {
   "cell_type": "code",
   "execution_count": 21,
   "metadata": {},
   "outputs": [
    {
     "name": "stdout",
     "output_type": "stream",
     "text": [
      "here\n",
      "here\n",
      "here\n",
      "Estimating biases using als...\n",
      "Estimating biases using als...\n",
      "Estimating biases using als...\n",
      "Estimating biases using als...\n",
      "Estimating biases using als...\n",
      "here\n"
     ]
    },
    {
     "data": {
      "text/html": [
       "<div>\n",
       "<style scoped>\n",
       "    .dataframe tbody tr th:only-of-type {\n",
       "        vertical-align: middle;\n",
       "    }\n",
       "\n",
       "    .dataframe tbody tr th {\n",
       "        vertical-align: top;\n",
       "    }\n",
       "\n",
       "    .dataframe thead th {\n",
       "        text-align: right;\n",
       "    }\n",
       "</style>\n",
       "<table border=\"1\" class=\"dataframe\">\n",
       "  <thead>\n",
       "    <tr style=\"text-align: right;\">\n",
       "      <th></th>\n",
       "      <th>test_mae</th>\n",
       "      <th>fit_time</th>\n",
       "      <th>test_time</th>\n",
       "    </tr>\n",
       "    <tr>\n",
       "      <th>Algorithm</th>\n",
       "      <th></th>\n",
       "      <th></th>\n",
       "      <th></th>\n",
       "    </tr>\n",
       "  </thead>\n",
       "  <tbody>\n",
       "    <tr>\n",
       "      <th>BaselineOnly</th>\n",
       "      <td>2.577572</td>\n",
       "      <td>8.406161</td>\n",
       "      <td>12.817482</td>\n",
       "    </tr>\n",
       "    <tr>\n",
       "      <th>CoClustering</th>\n",
       "      <td>2.585889</td>\n",
       "      <td>72.946006</td>\n",
       "      <td>46.133111</td>\n",
       "    </tr>\n",
       "    <tr>\n",
       "      <th>NMF</th>\n",
       "      <td>2.720681</td>\n",
       "      <td>201.500572</td>\n",
       "      <td>16.003362</td>\n",
       "    </tr>\n",
       "    <tr>\n",
       "      <th>SVD</th>\n",
       "      <td>2.922889</td>\n",
       "      <td>198.357494</td>\n",
       "      <td>13.664186</td>\n",
       "    </tr>\n",
       "  </tbody>\n",
       "</table>\n",
       "</div>"
      ],
      "text/plain": [
       "              test_mae    fit_time  test_time\n",
       "Algorithm                                    \n",
       "BaselineOnly  2.577572    8.406161  12.817482\n",
       "CoClustering  2.585889   72.946006  46.133111\n",
       "NMF           2.720681  201.500572  16.003362\n",
       "SVD           2.922889  198.357494  13.664186"
      ]
     },
     "execution_count": 21,
     "metadata": {},
     "output_type": "execute_result"
    }
   ],
   "source": [
    "# try CV on data1\n",
    "# try CV, so results more robust\n",
    "benchmark_1 = []\n",
    "# Iterate over all algorithms\n",
    "for algorithm in [SVD(), NMF(), BaselineOnly(), CoClustering()]:\n",
    "    print('here')\n",
    "    # Perform cross validation\n",
    "    results = cross_validate(algorithm, data1, measures=['MAE'], cv=5, verbose=False)\n",
    "    \n",
    "    # Get results & append algorithm name\n",
    "    tmp = pd.DataFrame.from_dict(results).mean(axis=0)\n",
    "    tmp = tmp.append(pd.Series([str(algorithm).split(' ')[0].split('.')[-1]], index=['Algorithm']))\n",
    "    benchmark_1.append(tmp)\n",
    "    \n",
    "pd.DataFrame(benchmark_1).set_index('Algorithm').sort_values('test_mae')    \n",
    "\n",
    "\n",
    "\n",
    "\n"
   ]
  },
  {
   "cell_type": "code",
   "execution_count": 17,
   "metadata": {},
   "outputs": [
    {
     "name": "stdout",
     "output_type": "stream",
     "text": [
      "here\n",
      "here\n",
      "here\n",
      "here\n",
      "here\n",
      "Estimating biases using als...\n",
      "Estimating biases using als...\n",
      "Estimating biases using als...\n",
      "here\n"
     ]
    },
    {
     "data": {
      "text/html": [
       "<div>\n",
       "<style scoped>\n",
       "    .dataframe tbody tr th:only-of-type {\n",
       "        vertical-align: middle;\n",
       "    }\n",
       "\n",
       "    .dataframe tbody tr th {\n",
       "        vertical-align: top;\n",
       "    }\n",
       "\n",
       "    .dataframe thead th {\n",
       "        text-align: right;\n",
       "    }\n",
       "</style>\n",
       "<table border=\"1\" class=\"dataframe\">\n",
       "  <thead>\n",
       "    <tr style=\"text-align: right;\">\n",
       "      <th></th>\n",
       "      <th>test_rmse</th>\n",
       "      <th>fit_time</th>\n",
       "      <th>test_time</th>\n",
       "    </tr>\n",
       "    <tr>\n",
       "      <th>Algorithm</th>\n",
       "      <th></th>\n",
       "      <th></th>\n",
       "      <th></th>\n",
       "    </tr>\n",
       "  </thead>\n",
       "  <tbody>\n",
       "    <tr>\n",
       "      <th>BaselineOnly</th>\n",
       "      <td>2.062889</td>\n",
       "      <td>2.300474</td>\n",
       "      <td>17.970827</td>\n",
       "    </tr>\n",
       "    <tr>\n",
       "      <th>SVD</th>\n",
       "      <td>2.097216</td>\n",
       "      <td>30.166527</td>\n",
       "      <td>3.509758</td>\n",
       "    </tr>\n",
       "    <tr>\n",
       "      <th>SVDpp</th>\n",
       "      <td>2.164766</td>\n",
       "      <td>80.885308</td>\n",
       "      <td>13.470831</td>\n",
       "    </tr>\n",
       "    <tr>\n",
       "      <th>NMF</th>\n",
       "      <td>2.270651</td>\n",
       "      <td>45.003007</td>\n",
       "      <td>18.997487</td>\n",
       "    </tr>\n",
       "    <tr>\n",
       "      <th>CoClustering</th>\n",
       "      <td>2.336403</td>\n",
       "      <td>22.694426</td>\n",
       "      <td>28.981533</td>\n",
       "    </tr>\n",
       "    <tr>\n",
       "      <th>SlopeOne</th>\n",
       "      <td>2.430272</td>\n",
       "      <td>105.378881</td>\n",
       "      <td>60.713146</td>\n",
       "    </tr>\n",
       "  </tbody>\n",
       "</table>\n",
       "</div>"
      ],
      "text/plain": [
       "              test_rmse    fit_time  test_time\n",
       "Algorithm                                     \n",
       "BaselineOnly   2.062889    2.300474  17.970827\n",
       "SVD            2.097216   30.166527   3.509758\n",
       "SVDpp          2.164766   80.885308  13.470831\n",
       "NMF            2.270651   45.003007  18.997487\n",
       "CoClustering   2.336403   22.694426  28.981533\n",
       "SlopeOne       2.430272  105.378881  60.713146"
      ]
     },
     "execution_count": 17,
     "metadata": {},
     "output_type": "execute_result"
    }
   ],
   "source": [
    "# try CV on data2\n",
    "# try CV, so results more robust\n",
    "benchmark_2 = []\n",
    "# Iterate over all algorithms\n",
    "for algorithm in [SVD(), SVDpp(), SlopeOne(), NMF(), BaselineOnly(), CoClustering()]:\n",
    "    print('here')\n",
    "    # Perform cross validation\n",
    "    results = cross_validate(algorithm, samp_data2, measures=['RMSE'], cv=3, verbose=False)\n",
    "    \n",
    "    # Get results & append algorithm name\n",
    "    tmp = pd.DataFrame.from_dict(results).mean(axis=0)\n",
    "    tmp = tmp.append(pd.Series([str(algorithm).split(' ')[0].split('.')[-1]], index=['Algorithm']))\n",
    "    benchmark_2.append(tmp)\n",
    "    \n",
    "pd.DataFrame(benchmark_2).set_index('Algorithm').sort_values('test_rmse')    \n",
    "\n",
    "\n"
   ]
  },
  {
   "cell_type": "code",
   "execution_count": 23,
   "metadata": {},
   "outputs": [
    {
     "name": "stdout",
     "output_type": "stream",
     "text": [
      "here\n",
      "here\n",
      "here\n",
      "Estimating biases using als...\n",
      "Estimating biases using als...\n",
      "Estimating biases using als...\n",
      "Estimating biases using als...\n",
      "Estimating biases using als...\n",
      "here\n"
     ]
    },
    {
     "data": {
      "text/html": [
       "<div>\n",
       "<style scoped>\n",
       "    .dataframe tbody tr th:only-of-type {\n",
       "        vertical-align: middle;\n",
       "    }\n",
       "\n",
       "    .dataframe tbody tr th {\n",
       "        vertical-align: top;\n",
       "    }\n",
       "\n",
       "    .dataframe thead th {\n",
       "        text-align: right;\n",
       "    }\n",
       "</style>\n",
       "<table border=\"1\" class=\"dataframe\">\n",
       "  <thead>\n",
       "    <tr style=\"text-align: right;\">\n",
       "      <th></th>\n",
       "      <th>test_mae</th>\n",
       "      <th>fit_time</th>\n",
       "      <th>test_time</th>\n",
       "    </tr>\n",
       "    <tr>\n",
       "      <th>Algorithm</th>\n",
       "      <th></th>\n",
       "      <th></th>\n",
       "      <th></th>\n",
       "    </tr>\n",
       "  </thead>\n",
       "  <tbody>\n",
       "    <tr>\n",
       "      <th>NMF</th>\n",
       "      <td>1.201661</td>\n",
       "      <td>45.417120</td>\n",
       "      <td>2.011475</td>\n",
       "    </tr>\n",
       "    <tr>\n",
       "      <th>BaselineOnly</th>\n",
       "      <td>1.212824</td>\n",
       "      <td>2.249456</td>\n",
       "      <td>1.664409</td>\n",
       "    </tr>\n",
       "    <tr>\n",
       "      <th>SVD</th>\n",
       "      <td>1.218897</td>\n",
       "      <td>35.611385</td>\n",
       "      <td>2.836083</td>\n",
       "    </tr>\n",
       "    <tr>\n",
       "      <th>CoClustering</th>\n",
       "      <td>1.270094</td>\n",
       "      <td>22.107554</td>\n",
       "      <td>2.107323</td>\n",
       "    </tr>\n",
       "  </tbody>\n",
       "</table>\n",
       "</div>"
      ],
      "text/plain": [
       "              test_mae   fit_time  test_time\n",
       "Algorithm                                   \n",
       "NMF           1.201661  45.417120   2.011475\n",
       "BaselineOnly  1.212824   2.249456   1.664409\n",
       "SVD           1.218897  35.611385   2.836083\n",
       "CoClustering  1.270094  22.107554   2.107323"
      ]
     },
     "execution_count": 23,
     "metadata": {},
     "output_type": "execute_result"
    }
   ],
   "source": [
    "# try CV on sample of data2\n",
    "# try CV, so results more robust\n",
    "benchmark_2 = []\n",
    "# Iterate over all algorithms\n",
    "for algorithm in [SVD(), NMF(), BaselineOnly(), CoClustering()]:\n",
    "    print('here')\n",
    "    # Perform cross validation\n",
    "    results = cross_validate(algorithm, samp_data2, measures=['MAE'], cv=5, verbose=False)\n",
    "    \n",
    "    # Get results & append algorithm name\n",
    "    tmp = pd.DataFrame.from_dict(results).mean(axis=0)\n",
    "    tmp = tmp.append(pd.Series([str(algorithm).split(' ')[0].split('.')[-1]], index=['Algorithm']))\n",
    "    benchmark_2.append(tmp)\n",
    "    \n",
    "pd.DataFrame(benchmark_2).set_index('Algorithm').sort_values('test_mae')    \n",
    "\n",
    "\n",
    "\n"
   ]
  },
  {
   "cell_type": "code",
   "execution_count": null,
   "metadata": {},
   "outputs": [],
   "source": []
  },
  {
   "cell_type": "code",
   "execution_count": null,
   "metadata": {},
   "outputs": [],
   "source": [
    "# grid search for hyper parameter tuning \n",
    "# sample of full data\n",
    "# baseline \n",
    "# ALS\n",
    "\n",
    "print('Using ALS, set param_grid')\n",
    "param_grid = {'bsl_options': {'method': ['als'],\n",
    "                              'reg_i': [10, 1, 0.1, 0.01],\n",
    "                              'reg_u': [15, 1.5],\n",
    "                              'n_epochs':[5, 10]}\n",
    "              }\n",
    "\n",
    "print('grid search')\n",
    "gs_bl = GridSearchCV(BaselineOnly, param_grid, measures=['rmse'], cv=3)\n",
    "\n",
    "print('fitting BaselineOnly')\n",
    "gs_bl.fit(samp_data)\n",
    "\n",
    "# best RMSE score\n",
    "print(gs_bl.best_score['rmse'])\n",
    "\n",
    "# combination of parameters that gave the best RMSE score\n",
    "print(gs_bl.best_params['rmse'])"
   ]
  },
  {
   "cell_type": "code",
   "execution_count": null,
   "metadata": {},
   "outputs": [],
   "source": [
    "# grid search for hyper parameter tuning \n",
    "# sample of full data\n",
    "# baseline \n",
    "# SGD\n",
    "\n",
    "print('Using SGD, set param_grid')\n",
    "param_grid = {'bsl_options': {'method': ['sgd'],\n",
    "                              'reg': [0.2, 0.02, 0.002],\n",
    "                              'learning_rate': [0.005, 0.05],\n",
    "                              'n_epochs':[15, 20]}\n",
    "              }\n",
    "\n",
    "print('grid search')\n",
    "gs_bl2 = GridSearchCV(BaselineOnly, param_grid, measures=['rmse'], cv=3)\n",
    "\n",
    "print('fitting BaselineOnly')\n",
    "gs_bl2.fit(samp_data)\n",
    "\n",
    "# best RMSE score\n",
    "print(gs_bl2.best_score['rmse'])\n",
    "\n",
    "# combination of parameters that gave the best RMSE score\n",
    "print(gs_bl2.best_params['rmse'])"
   ]
  },
  {
   "cell_type": "code",
   "execution_count": null,
   "metadata": {},
   "outputs": [],
   "source": [
    "# cv with best parameter \n",
    "# on (sample of?) full data"
   ]
  },
  {
   "cell_type": "code",
   "execution_count": null,
   "metadata": {},
   "outputs": [],
   "source": [
    "# grid search for cluster 0, 1, 2"
   ]
  }
 ],
 "metadata": {
  "kernelspec": {
   "display_name": "Python 3",
   "language": "python",
   "name": "python3"
  },
  "language_info": {
   "codemirror_mode": {
    "name": "ipython",
    "version": 3
   },
   "file_extension": ".py",
   "mimetype": "text/x-python",
   "name": "python",
   "nbconvert_exporter": "python",
   "pygments_lexer": "ipython3",
   "version": "3.8.5"
  }
 },
 "nbformat": 4,
 "nbformat_minor": 4
}
